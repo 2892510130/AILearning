{
 "cells": [
  {
   "cell_type": "markdown",
   "id": "11bfb280-4313-44e5-8952-c695e9f85010",
   "metadata": {},
   "source": [
    "## Chapter 20 : Generative Adversarial Networks\n",
    "<figure style=\"text-align: center;\">\n",
    "  <img src=\"https://d2l.ai/_images/gan.svg\" alt=\"GAN\" style=\"background-color: white; display: inline-block;\"/>\n",
    "  <figcaption> GAN </figcaption>\n",
    "</figure>\n",
    "\n",
    "- The discriminator is a binary classifier which outputs a saclar prediction $o$, so $D(x) = 1/(1+e^{-o})$, assume the label for $y$ for true data is 1, and 0 for fake data, we have:\n",
    "  $$\\min_D\\left\\{ -y\\log D(x)-(1-y)\\log (1-D(x)) \\right\\}$$\n",
    "  The generator is $x^{'} = G(z)$, where $z \\sim \\mathcal N(0,1)$ is called latent variable. The goal is find $G$ that maximize the loss when $y=0$:\n",
    "  $$\\max_G \\left \\{ -(1-y)\\log (1-D(G(z))) \\right \\} = \\max_G \\left \\{ -\\log (1-D(G(z))) \\right \\}$$\n",
    "  But in this way if the generator is good, the gradient will be too small for discriminator to evolve, so we choos to minimize this (given $y=1$):\n",
    "  $$\\min_G \\left \\{ -y\\log D(G(z)) \\right \\}=\\min_G \\left \\{ -\\log D(G(z)) \\right \\}$$\n",
    "  So the overall objective function is:\n",
    "  $$\\min_D\\max_G \\left \\{ -E_{x\\sim \\text{Data}}\\log D(x) - E_{z \\sim \\text{Noise}}\\log (1-D(G(z)))\\right\\}$$\n",
    "- Deep Convolutional GAN\n",
    "  - Generator use transposed convolution, discriminator use convolution, and the learning rate of them is same, adam smooth term $\\beta$ set to 0.5 to deal with rapidly changing gradient. A leakly RELU is used."
   ]
  },
  {
   "cell_type": "code",
   "execution_count": null,
   "id": "739eb5dc-2be0-4e0e-a4ab-8cfd83933bd4",
   "metadata": {},
   "outputs": [],
   "source": []
  }
 ],
 "metadata": {
  "kernelspec": {
   "display_name": "Python 3 (ipykernel)",
   "language": "python",
   "name": "python3"
  },
  "language_info": {
   "codemirror_mode": {
    "name": "ipython",
    "version": 3
   },
   "file_extension": ".py",
   "mimetype": "text/x-python",
   "name": "python",
   "nbconvert_exporter": "python",
   "pygments_lexer": "ipython3",
   "version": "3.12.4"
  }
 },
 "nbformat": 4,
 "nbformat_minor": 5
}
