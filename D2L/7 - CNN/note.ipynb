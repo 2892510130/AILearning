{
 "cells": [
  {
   "cell_type": "markdown",
   "id": "e6c0a2a8-4e51-4027-8950-60354182b9af",
   "metadata": {},
   "source": [
    "## Chapter 7 : CNN\n",
    "1. **Invariance**: translation equivariance, locality -> The earliest layers should respond similarly to the same patch and focus on local regions.\n",
    "2. **Convolution**: math is $(f * g)(i, j) = \\sum_a \\sum_b f(a, b)  g(i - a, j - b)$, remind that **cross-correlation** is $(f * g)(i, j) = \\sum_a \\sum_b f(a, b)  g(i + a, j + b)$\n",
    "   - The difference is not important as we will learn the kernel, `k_conv_learned = k_corr_learned.T`, or `conv(X, k_conv_learned) = corr(X, k_corr_learned)`\n",
    "3. **Receptive Field**： for any element (tensors on the conv layer) x, all the elements that may effect x in the previous layers in the forward population.\n",
    "4. **Padding, Stride**: $\\lfloor (n_h - k_h + p_h + s_h) / s_h \\rfloor \\times \\lfloor (n_w - k_w + p_w + s_w) / s_w \\rfloor$, often `p_h = k_h - 1`, the same for `p_w`. `p_h = p_h_upper + p_h_lower`.\n",
    "5. **Channel**:\n",
    "   - multi in $c_i$ -> kernel must also have the same channels ($c_i \\times k_h \\times k_w$), then add them up.\n",
    "   - multi out $c_o$ -> kernel with $c_o \\times c_i \\times k_h \\times k_w$, get $c_o$ output channels.\n",
    "6. use `torch.stack` to stack tensors\n",
    "7. **Pooling**: mitigating the sensitivity of convolutional layers to location and of spatially downsampling representations."
   ]
  },
  {
   "cell_type": "code",
   "execution_count": 1,
   "id": "b4e19855-41cc-451b-ab0a-8757397133f9",
   "metadata": {},
   "outputs": [],
   "source": [
    "import torch\n",
    "from torch import nn"
   ]
  },
  {
   "cell_type": "code",
   "execution_count": 63,
   "id": "2e1f5274-0548-4a8a-bd40-4bb32f8b8cc6",
   "metadata": {},
   "outputs": [],
   "source": [
    "reduce_sum = lambda x, *args, **kwargs: x.sum(*args, **kwargs)\n",
    "def corr2d(X, K):\n",
    "    h, w = K.shape\n",
    "    Y = torch.zeros(X.shape[0] - h + 1, X.shape[1] - w + 1)\n",
    "    for i in range(Y.shape[0]):\n",
    "        for j in range(Y.shape[1]):\n",
    "            Y[i, j] = reduce_sum((X[i:i+h, j:j+w] * K))\n",
    "    return Y"
   ]
  },
  {
   "cell_type": "code",
   "execution_count": 64,
   "id": "1f79dfb6-308d-41e6-81e0-2a019bf3b9a4",
   "metadata": {},
   "outputs": [
    {
     "name": "stdout",
     "output_type": "stream",
     "text": [
      "tensor([[0., 1., 2.],\n",
      "        [3., 4., 5.],\n",
      "        [6., 7., 8.]]) tensor([[0., 1.],\n",
      "        [2., 3.]])\n"
     ]
    },
    {
     "data": {
      "text/plain": [
       "tensor([[19., 25.],\n",
       "        [37., 43.]])"
      ]
     },
     "execution_count": 64,
     "metadata": {},
     "output_type": "execute_result"
    }
   ],
   "source": [
    "X = torch.tensor([[0.0, 1.0, 2.0], [3.0, 4.0, 5.0], [6.0, 7.0, 8.0]])\n",
    "K = torch.tensor([[0.0, 1.0], [2.0, 3.0]])\n",
    "print(X, K)\n",
    "corr2d(X, K)"
   ]
  },
  {
   "cell_type": "code",
   "execution_count": 65,
   "id": "f63fa21e-f863-48a9-b305-d3e76a9cdd63",
   "metadata": {},
   "outputs": [],
   "source": [
    "def corr2d_multi_in(X, k):\n",
    "    return sum(corr2d(X[i], k[i]) for i in range(X.shape[0]))\n",
    "    # for x, k in zip(X, K):\n",
    "    #     print(x, k)\n",
    "    #     print(corr2d(x, k))\n",
    "    # return sum(corr2d(x, k) for x, k in zip(X, K))"
   ]
  },
  {
   "cell_type": "code",
   "execution_count": 66,
   "id": "2944ee99-0b3e-402b-93e4-eb313a9dd41a",
   "metadata": {},
   "outputs": [
    {
     "name": "stdout",
     "output_type": "stream",
     "text": [
      "torch.Size([2, 3, 3]) torch.Size([2, 2, 2])\n"
     ]
    },
    {
     "data": {
      "text/plain": [
       "tensor([[ 56.,  72.],\n",
       "        [104., 120.]])"
      ]
     },
     "execution_count": 66,
     "metadata": {},
     "output_type": "execute_result"
    }
   ],
   "source": [
    "new_X = torch.tensor([[[0.0, 1.0, 2.0], [3.0, 4.0, 5.0], [6.0, 7.0, 8.0]],\n",
    "               [[1.0, 2.0, 3.0], [4.0, 5.0, 6.0], [7.0, 8.0, 9.0]]])\n",
    "new_K = torch.tensor([[[0.0, 1.0], [2.0, 3.0]], [[1.0, 2.0], [3.0, 4.0]]])\n",
    "\n",
    "print(new_X.shape, new_K.shape)\n",
    "corr2d_multi_in(new_X, new_K)"
   ]
  },
  {
   "cell_type": "code",
   "execution_count": 67,
   "id": "4131ee64-474a-4f71-b578-2097c7663392",
   "metadata": {},
   "outputs": [],
   "source": [
    "def corr2d_multi_in_out(X, K):\n",
    "    return torch.stack([corr2d_multi_in(X, k) for k in K], 0)"
   ]
  },
  {
   "cell_type": "code",
   "execution_count": 69,
   "id": "9cffa519-38df-49a0-bd3b-6e4501386798",
   "metadata": {},
   "outputs": [
    {
     "name": "stdout",
     "output_type": "stream",
     "text": [
      "torch.Size([3, 2, 2, 2])\n"
     ]
    }
   ],
   "source": [
    "multi_channel_k = torch.stack([new_K, new_K+1, new_K+2], 0)\n",
    "print(multi_channel_k.shape)"
   ]
  },
  {
   "cell_type": "code",
   "execution_count": 70,
   "id": "7b71dd8a-6302-4125-be49-210dcd7104b9",
   "metadata": {},
   "outputs": [
    {
     "data": {
      "text/plain": [
       "tensor([[[ 56.,  72.],\n",
       "         [104., 120.]],\n",
       "\n",
       "        [[ 76., 100.],\n",
       "         [148., 172.]],\n",
       "\n",
       "        [[ 96., 128.],\n",
       "         [192., 224.]]])"
      ]
     },
     "execution_count": 70,
     "metadata": {},
     "output_type": "execute_result"
    }
   ],
   "source": [
    "corr2d_multi_in_out(new_X, multi_channel_k)"
   ]
  },
  {
   "cell_type": "code",
   "execution_count": 91,
   "id": "a0bcb530-6d26-4bb2-9534-4647c22573c1",
   "metadata": {},
   "outputs": [
    {
     "name": "stdout",
     "output_type": "stream",
     "text": [
      "tensor([[1., 1., 0., 0., 0., 0., 1., 1.],\n",
      "        [1., 1., 0., 0., 0., 0., 1., 1.],\n",
      "        [1., 1., 0., 0., 0., 0., 1., 1.],\n",
      "        [1., 1., 0., 0., 0., 0., 1., 1.],\n",
      "        [1., 1., 0., 0., 0., 0., 1., 1.],\n",
      "        [1., 1., 0., 0., 0., 0., 1., 1.]])\n"
     ]
    }
   ],
   "source": [
    "edge_k = torch.tensor([1.0, -1.0]).reshape(1, 2)\n",
    "edge_x = torch.ones((6, 8))\n",
    "edge_x[:, 2:6] = 0\n",
    "print(edge_x)"
   ]
  },
  {
   "cell_type": "code",
   "execution_count": 92,
   "id": "403f65ee-07f0-48a7-85d3-dd50f64f83e7",
   "metadata": {},
   "outputs": [
    {
     "data": {
      "text/plain": [
       "tensor([[ 0.,  1.,  0.,  0.,  0., -1.,  0.],\n",
       "        [ 0.,  1.,  0.,  0.,  0., -1.,  0.],\n",
       "        [ 0.,  1.,  0.,  0.,  0., -1.,  0.],\n",
       "        [ 0.,  1.,  0.,  0.,  0., -1.,  0.],\n",
       "        [ 0.,  1.,  0.,  0.,  0., -1.,  0.],\n",
       "        [ 0.,  1.,  0.,  0.,  0., -1.,  0.]])"
      ]
     },
     "execution_count": 92,
     "metadata": {},
     "output_type": "execute_result"
    }
   ],
   "source": [
    "corr2d(edge_x, edge_k)"
   ]
  },
  {
   "cell_type": "code",
   "execution_count": 93,
   "id": "085f9048-aa8f-4640-b127-0db3369ec67a",
   "metadata": {},
   "outputs": [],
   "source": [
    "def pool2d(X, pool_size, pool_method=\"max\"):\n",
    "    p_h, p_w = pool_size\n",
    "    x_h, x_w = X.shape\n",
    "    Y = torch.zeros(x_h - p_h + 1, x_w - p_w + 1)\n",
    "    for i in range(Y.shape[0]):\n",
    "        for j in range(Y.shape[1]):\n",
    "            if pool_method == \"max\":\n",
    "                Y[i, j] = X[i:i+p_h, j:j+p_w].max()\n",
    "            elif pool_method == \"avg\":\n",
    "                Y[i, j] = X[i:i+p_h, j:j+p_w].mean()\n",
    "    return Y"
   ]
  },
  {
   "cell_type": "code",
   "execution_count": 94,
   "id": "4c6ee84d-62f5-4415-b8c9-5489de9b8d3f",
   "metadata": {},
   "outputs": [
    {
     "name": "stdout",
     "output_type": "stream",
     "text": [
      "tensor([[1., 1., 0., 0., 0., 1., 1.],\n",
      "        [1., 1., 0., 0., 0., 1., 1.],\n",
      "        [1., 1., 0., 0., 0., 1., 1.],\n",
      "        [1., 1., 0., 0., 0., 1., 1.],\n",
      "        [1., 1., 0., 0., 0., 1., 1.]])\n"
     ]
    }
   ],
   "source": [
    "print(pool2d(edge_x, (2,2)))"
   ]
  },
  {
   "cell_type": "code",
   "execution_count": 95,
   "id": "ab259aef-b505-4cda-b0ff-33212c11f063",
   "metadata": {},
   "outputs": [
    {
     "name": "stdout",
     "output_type": "stream",
     "text": [
      "tensor([[1., 1., 0., 0., 0., 0.],\n",
      "        [1., 1., 0., 0., 0., 0.],\n",
      "        [1., 1., 0., 0., 0., 0.],\n",
      "        [1., 1., 0., 0., 0., 0.],\n",
      "        [1., 1., 0., 0., 0., 0.]])\n"
     ]
    }
   ],
   "source": [
    "print(pool2d(corr2d(edge_x, edge_k), (2,2)))"
   ]
  },
  {
   "cell_type": "code",
   "execution_count": 96,
   "id": "aa82aab0-f510-4669-8154-be006e4c7552",
   "metadata": {},
   "outputs": [
    {
     "name": "stdout",
     "output_type": "stream",
     "text": [
      "tensor([[1., 1., 1., 0., 1., 0., 1., 1.],\n",
      "        [1., 1., 1., 0., 1., 0., 1., 1.],\n",
      "        [1., 1., 1., 0., 1., 0., 1., 1.],\n",
      "        [1., 1., 1., 0., 1., 0., 1., 1.],\n",
      "        [1., 1., 1., 0., 1., 0., 1., 1.],\n",
      "        [1., 1., 1., 0., 1., 0., 1., 1.]])\n"
     ]
    }
   ],
   "source": [
    "edge_x[:, 2] = 1\n",
    "edge_x[:, 4] = 1\n",
    "print(edge_x)"
   ]
  },
  {
   "cell_type": "code",
   "execution_count": 97,
   "id": "7372db45-88ab-4180-b81d-87cd29a3b874",
   "metadata": {},
   "outputs": [
    {
     "name": "stdout",
     "output_type": "stream",
     "text": [
      "tensor([[ 0.,  0.,  1., -1.,  1., -1.,  0.],\n",
      "        [ 0.,  0.,  1., -1.,  1., -1.,  0.],\n",
      "        [ 0.,  0.,  1., -1.,  1., -1.,  0.],\n",
      "        [ 0.,  0.,  1., -1.,  1., -1.,  0.],\n",
      "        [ 0.,  0.,  1., -1.,  1., -1.,  0.],\n",
      "        [ 0.,  0.,  1., -1.,  1., -1.,  0.]])\n"
     ]
    }
   ],
   "source": [
    "print(corr2d(edge_x, edge_k))"
   ]
  },
  {
   "cell_type": "code",
   "execution_count": 98,
   "id": "54db15db-7d88-43a6-a99a-9c0cabb2ba33",
   "metadata": {},
   "outputs": [
    {
     "name": "stdout",
     "output_type": "stream",
     "text": [
      "tensor([[0., 1., 1., 1., 1., 0.],\n",
      "        [0., 1., 1., 1., 1., 0.],\n",
      "        [0., 1., 1., 1., 1., 0.],\n",
      "        [0., 1., 1., 1., 1., 0.],\n",
      "        [0., 1., 1., 1., 1., 0.]])\n"
     ]
    }
   ],
   "source": [
    "print(pool2d(corr2d(edge_x, edge_k), (2,2)))"
   ]
  },
  {
   "cell_type": "code",
   "execution_count": 101,
   "id": "f645aa7b-09a5-4029-a36c-1f0c2fe71164",
   "metadata": {},
   "outputs": [
    {
     "name": "stdout",
     "output_type": "stream",
     "text": [
      "torch.Size([3, 3])\n",
      "torch.Size([6, 3])\n",
      "torch.Size([2, 3, 3])\n",
      "torch.Size([3, 2, 3])\n"
     ]
    }
   ],
   "source": [
    "print(X.shape)\n",
    "print(torch.cat((X,X), dim=0).shape)\n",
    "print(torch.stack((X,X), dim=0).shape)\n",
    "print(torch.stack((X,X), dim=1).shape)"
   ]
  },
  {
   "cell_type": "code",
   "execution_count": 102,
   "id": "99cc6468-ff0a-4d47-87fe-227027594720",
   "metadata": {},
   "outputs": [],
   "source": [
    "net = nn.Sequential(\n",
    "            nn.LazyConv2d(6, kernel_size=5, padding=2), nn.Sigmoid(),\n",
    "            nn.AvgPool2d(kernel_size=2, stride=2),\n",
    "            nn.LazyConv2d(16, kernel_size=5), nn.Sigmoid(),\n",
    "            nn.AvgPool2d(kernel_size=2, stride=2),\n",
    "            nn.Flatten(),\n",
    "            nn.LazyLinear(120), nn.Sigmoid(),\n",
    "            nn.LazyLinear(84), nn.Sigmoid(),\n",
    "            nn.LazyLinear(10))"
   ]
  },
  {
   "cell_type": "code",
   "execution_count": 106,
   "id": "295c6462-ed07-409d-9419-03e4465aa2b4",
   "metadata": {},
   "outputs": [],
   "source": [
    "def layer_summary(net, X_shape):\n",
    "    X = torch.randn(*X_shape)\n",
    "    for layer in net:\n",
    "        X = layer(X)\n",
    "        print(layer.__class__.__name__, 'output shape:\\t', X.shape)"
   ]
  },
  {
   "cell_type": "code",
   "execution_count": 107,
   "id": "6593fd88-3a0d-4994-9696-bc7388d2d3b9",
   "metadata": {},
   "outputs": [
    {
     "name": "stdout",
     "output_type": "stream",
     "text": [
      "Conv2d output shape:\t torch.Size([256, 6, 28, 28])\n",
      "Sigmoid output shape:\t torch.Size([256, 6, 28, 28])\n",
      "AvgPool2d output shape:\t torch.Size([256, 6, 14, 14])\n",
      "Conv2d output shape:\t torch.Size([256, 16, 10, 10])\n",
      "Sigmoid output shape:\t torch.Size([256, 16, 10, 10])\n",
      "AvgPool2d output shape:\t torch.Size([256, 16, 5, 5])\n",
      "Flatten output shape:\t torch.Size([256, 400])\n",
      "Linear output shape:\t torch.Size([256, 120])\n",
      "Sigmoid output shape:\t torch.Size([256, 120])\n",
      "Linear output shape:\t torch.Size([256, 84])\n",
      "Sigmoid output shape:\t torch.Size([256, 84])\n",
      "Linear output shape:\t torch.Size([256, 10])\n"
     ]
    }
   ],
   "source": [
    "layer_summary(net, (256, 3, 28, 28))"
   ]
  },
  {
   "cell_type": "code",
   "execution_count": null,
   "id": "ba1442e1-5336-4f25-9e46-198a75615b3f",
   "metadata": {},
   "outputs": [],
   "source": []
  }
 ],
 "metadata": {
  "kernelspec": {
   "display_name": "Python 3 (ipykernel)",
   "language": "python",
   "name": "python3"
  },
  "language_info": {
   "codemirror_mode": {
    "name": "ipython",
    "version": 3
   },
   "file_extension": ".py",
   "mimetype": "text/x-python",
   "name": "python",
   "nbconvert_exporter": "python",
   "pygments_lexer": "ipython3",
   "version": "3.12.4"
  }
 },
 "nbformat": 4,
 "nbformat_minor": 5
}
