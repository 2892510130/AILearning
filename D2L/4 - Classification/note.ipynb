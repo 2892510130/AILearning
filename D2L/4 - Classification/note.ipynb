{
 "cells": [
  {
   "cell_type": "markdown",
   "id": "5c349c26-88d1-4f89-a25d-668324880868",
   "metadata": {},
   "source": [
    "## Chapter 4 : Classification\n",
    "- softmax:\n",
    "  $y_i = \\frac{\\exp(o_i)}{\\sum_j \\exp(o_j)}$, often minus max(oj) to get numerical stable\n",
    "- Information theory\n",
    "  - cross-entropy loss：$l(y, \\hat y) = - \\sum y_i * \\log(\\hat y_i)$\n",
    "  - amount of information $\\log{\\frac{1}{P(j)}} = - \\log{P(j)}$ \n",
    "  - entorpy $H[P] = \\sum -P(j) \\log{P(j)}$\n",
    "  - cross-entorpy $H(P, Q) = \\sum -P(j) \\log{Q(j)}, ~ P=Q \\rightarrow H(P, Q) = H(P, P) = H(P)$. In pytorch, F.cross_entropy will do the softmax for you.\n",
    "- Image Classification Rules:\n",
    "  - image stored in (channel, height, weight) manner.\n",
    "- Distrubution shift:\n",
    "  - Covariate Shift (feature shift): $p(x) \\neq q(x), p(y|x) = q(y|x)$\n",
    "    - For example: p(x) and q(x) are features of oral and urban house, y is the price, we assume the feature and label relation is the same\n",
    "    - Method: weighted by $\\beta(x) = p(x) / q(x) \\rightarrow \\int\\int l(f(x), y)p(y|x)p(x)dxdy = \\int\\int l(f(x), y)q(y|x)q(x) \\frac{p(x)}{q(x)}dxdy \\rightarrow \\sum_i \\beta_i l(f(x_i), y_i)$, $\\beta$ can be obtained with logistic regression.\n",
    "  - Label Shift, $p(y) \\neq q(y), p(x|y) = q(x|y)$, the same method $\\beta(y) = p(y) / q(y)$, but now $q(y)$ is hard to get, we need compute a confusion matrix on the val data then use the model to pridcit the distrubution of the $q(y)$\n",
    "  - Concept Shift (the concept of the label)"
   ]
  },
  {
   "cell_type": "code",
   "execution_count": 1,
   "id": "9c16f84b-f95f-4d0d-b51b-7404bea2bea1",
   "metadata": {},
   "outputs": [],
   "source": [
    "%matplotlib inline\n",
    "import time\n",
    "import torch\n",
    "import torchvision\n",
    "from torchvision import transforms"
   ]
  },
  {
   "cell_type": "code",
   "execution_count": 28,
   "id": "43129fac-7003-4f77-b402-4610bb39943c",
   "metadata": {},
   "outputs": [],
   "source": [
    "import matplotlib.pyplot as plt\n",
    "\n",
    "def show_images(imgs, num_rows, num_cols, titles=None, scale=1.5):\n",
    "    \"\"\"Plot a list of images.\n",
    "\n",
    "    Defined in :numref:`sec_utils`\"\"\"\n",
    "    figsize = (num_cols * scale, num_rows * scale)\n",
    "    _, axes = plt.subplots(num_rows, num_cols, figsize=figsize)\n",
    "    axes = axes.flatten()\n",
    "    for i, (ax, img) in enumerate(zip(axes, imgs)):\n",
    "        try:\n",
    "            img = d2l.numpy(img)\n",
    "        except:\n",
    "            pass\n",
    "        ax.imshow(img)\n",
    "        ax.axes.get_xaxis().set_visible(False)\n",
    "        ax.axes.get_yaxis().set_visible(False)\n",
    "        if titles:\n",
    "            ax.set_title(titles[i])\n",
    "    return axes"
   ]
  },
  {
   "cell_type": "code",
   "execution_count": 24,
   "id": "24211dd4-86d0-4a8e-86d8-15ee8610b29d",
   "metadata": {},
   "outputs": [],
   "source": [
    "class FashionMNIST():\n",
    "    def __init__(self, batch_size = 8, resize = (28, 28), num_workers = 4, root = \"\"):\n",
    "        self.root = root\n",
    "        self.batch_size = batch_size\n",
    "        self.num_workers = num_workers\n",
    "        \n",
    "        trans = transforms.Compose([transforms.Resize(resize), transforms.ToTensor()]) # The ToTensor will make train[id] data to tensor and (0, 1) and (c, h, w)\n",
    "        self.train = torchvision.datasets.FashionMNIST(\n",
    "            root=self.root, train=True, transform=trans, download=False)\n",
    "        self.val = torchvision.datasets.FashionMNIST(\n",
    "            root=self.root, train=False, transform=trans, download=False)\n",
    "\n",
    "    def get_dataloader(self, train):\n",
    "        data = self.train if train else self.val\n",
    "        return torch.utils.data.DataLoader(data, self.batch_size, shuffle=train,\n",
    "                                       num_workers=self.num_workers)\n",
    "\n",
    "    def text_labels(self, indices):\n",
    "        \"\"\"Return text labels.\"\"\"\n",
    "        labels = ['t-shirt', 'trouser', 'pullover', 'dress', 'coat',\n",
    "                  'sandal', 'shirt', 'sneaker', 'bag', 'ankle boot']\n",
    "        return [labels[int(i)] for i in indices]\n",
    "\n",
    "    def visualize(self, batch, nrows=1, ncols=8, labels=[]):\n",
    "        X, y = batch\n",
    "        if not labels:\n",
    "            labels = self.text_labels(y)\n",
    "        show_images(X.squeeze(1), nrows, ncols, titles=labels)"
   ]
  },
  {
   "cell_type": "code",
   "execution_count": 78,
   "id": "816bdb81-1e5e-4aa0-b1ae-18ca41c8ece2",
   "metadata": {},
   "outputs": [
    {
     "data": {
      "text/plain": [
       "(torch.Size([60000, 28, 28]), torch.float32, torch.uint8)"
      ]
     },
     "execution_count": 78,
     "metadata": {},
     "output_type": "execute_result"
    }
   ],
   "source": [
    "fashion_mnist_data = FashionMNIST(batch_size = 256, root = \"../../Data\")\n",
    "fashion_mnist_data.train.data.shape, fashion_mnist_data.train[0][0].dtype, fashion_mnist_data.train.data[0].dtype"
   ]
  },
  {
   "cell_type": "code",
   "execution_count": 33,
   "id": "f259e765-da60-4168-9800-af41e6391863",
   "metadata": {},
   "outputs": [
    {
     "data": {
      "image/png": "[encoded data removed]",
      "text/plain": [
       "<Figure size 1200x150 with 8 Axes>"
      ]
     },
     "metadata": {},
     "output_type": "display_data"
    }
   ],
   "source": [
    "fashion_mnist_data.visualize(next(iter(fashion_mnist_data.get_dataloader(True))))"
   ]
  },
  {
   "cell_type": "code",
   "execution_count": 46,
   "id": "6d0a2f94-3f50-4665-84fe-8bffe1560e39",
   "metadata": {},
   "outputs": [
    {
     "data": {
      "text/plain": [
       "torch.Size([28, 28])"
      ]
     },
     "execution_count": 46,
     "metadata": {},
     "output_type": "execute_result"
    }
   ],
   "source": [
    "fashion_mnist_data.train[0][0].reshape(28, 28).shape"
   ]
  },
  {
   "cell_type": "code",
   "execution_count": 79,
   "id": "b686e41f-b960-41b5-a2ae-4b8c62adf792",
   "metadata": {},
   "outputs": [],
   "source": [
    "import torch.nn as nn\n",
    "class BaseModel(nn.Module):\n",
    "    def __init__(self, num_outputs):\n",
    "        super().__init__()\n",
    "        self.net = nn.Sequential(nn.Flatten(), nn.LazyLinear(32), nn.LazyLinear(num_outputs))\n",
    "\n",
    "    def forward(self, x):\n",
    "        return self.net(x)"
   ]
  },
  {
   "cell_type": "code",
   "execution_count": 80,
   "id": "d00a5406-c4aa-489d-bca1-64ab357eab05",
   "metadata": {},
   "outputs": [
    {
     "name": "stdout",
     "output_type": "stream",
     "text": [
      "torch.Size([1, 10])\n"
     ]
    }
   ],
   "source": [
    "base_model = BaseModel(10)\n",
    "print(base_model(fashion_mnist_data.train[0][0]).shape)"
   ]
  },
  {
   "cell_type": "code",
   "execution_count": 81,
   "id": "59e2c2cc-e6b6-472e-b68d-07a1010be05d",
   "metadata": {},
   "outputs": [
    {
     "name": "stdout",
     "output_type": "stream",
     "text": [
      "Using device : cuda\n",
      "Epoch [1/10], train loss: 1.6369, val loss: 1.1894\n",
      "Epoch [2/10], train loss: 1.0114, val loss: 0.9074\n",
      "Epoch [3/10], train loss: 0.8351, val loss: 0.7971\n",
      "Epoch [4/10], train loss: 0.7503, val loss: 0.7330\n",
      "Epoch [5/10], train loss: 0.6966, val loss: 0.6885\n",
      "Epoch [6/10], train loss: 0.6573, val loss: 0.6551\n",
      "Epoch [7/10], train loss: 0.6272, val loss: 0.6309\n",
      "Epoch [8/10], train loss: 0.6033, val loss: 0.6093\n",
      "Epoch [9/10], train loss: 0.5842, val loss: 0.5920\n",
      "Epoch [10/10], train loss: 0.5682, val loss: 0.5778\n"
     ]
    }
   ],
   "source": [
    "import torch.optim as optim\n",
    "epochs = 10\n",
    "criterion = nn.CrossEntropyLoss()\n",
    "optimizer = optim.SGD(base_model.parameters(), lr=0.01)\n",
    "\n",
    "device = torch.device(\"cuda\" if torch.cuda.is_available() else \"cpu\")\n",
    "print(\"Using device :\", device)\n",
    "base_model.to(device)\n",
    "\n",
    "train_loader = fashion_mnist_data.get_dataloader(True)  # 获取训练数据加载器\n",
    "val_loader = fashion_mnist_data.get_dataloader(False)  # 获取训练数据加载器\n",
    "\n",
    "loss_train, loss_val, correct, total = 0, 0, 0, 0\n",
    "for epoch in range(epochs):\n",
    "    base_model.train()  # 设置模型为训练模式\n",
    "\n",
    "    for x, y in train_loader:  # 遍历整个数据集\n",
    "        x, y = x.to(device), y.to(device)  # 将数据移动到 GPU（如果可用）\n",
    "\n",
    "        # 前向传播\n",
    "        y_hat = base_model(x)\n",
    "        loss = criterion(y_hat, y)  # 计算损失\n",
    "        loss_train += loss.item()\n",
    "        # 反向传播和优化\n",
    "        optimizer.zero_grad()  # 清除梯度\n",
    "        loss.backward()  # 反向传播\n",
    "        optimizer.step()  # 更新参数\n",
    "\n",
    "    base_model.eval()\n",
    "    with torch.no_grad():\n",
    "        for x, y in val_loader:\n",
    "            x, y = x.to(device), y.to(device)\n",
    "            y_hat = base_model(x)\n",
    "            loss = criterion(y_hat, y)\n",
    "            loss_val += loss.item()\n",
    "            _, predicted = y_hat.max(1)\n",
    "            total += y.size(0)\n",
    "            correct += predicted.eq(y).sum().item()\n",
    "            \n",
    "    print(f\"Epoch [{epoch+1}/{epochs}], train loss: {loss_train / len(train_loader):.4f}, val loss: {loss_val / len(val_loader):.4f}\")\n",
    "    loss_train, loss_val, correct, total = 0, 0, 0, 0\n",
    "    "
   ]
  },
  {
   "cell_type": "code",
   "execution_count": 82,
   "id": "9a86435d-9247-4615-a105-54c3f3207b82",
   "metadata": {},
   "outputs": [
    {
     "name": "stdout",
     "output_type": "stream",
     "text": [
      "cuda:0\n"
     ]
    }
   ],
   "source": [
    "for x, y in train_loader:  # 遍历整个数据集\n",
    "    x, y = x.to(device), y.to(device)\n",
    "    print(x.device)\n",
    "    break"
   ]
  },
  {
   "cell_type": "code",
   "execution_count": null,
   "id": "a5c32f53-2dfe-473c-87cf-961a51b85e3b",
   "metadata": {},
   "outputs": [],
   "source": []
  }
 ],
 "metadata": {
  "kernelspec": {
   "display_name": "Python 3 (ipykernel)",
   "language": "python",
   "name": "python3"
  },
  "language_info": {
   "codemirror_mode": {
    "name": "ipython",
    "version": 3
   },
   "file_extension": ".py",
   "mimetype": "text/x-python",
   "name": "python",
   "nbconvert_exporter": "python",
   "pygments_lexer": "ipython3",
   "version": "3.12.4"
  }
 },
 "nbformat": 4,
 "nbformat_minor": 5
}
