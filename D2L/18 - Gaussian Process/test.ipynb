{
 "cells": [
  {
   "cell_type": "code",
   "execution_count": 1,
   "id": "79065a81-2275-42d2-99c0-c9b666c46396",
   "metadata": {},
   "outputs": [
    {
     "name": "stdout",
     "output_type": "stream",
     "text": [
      "[KeOps] Warning : CUDA libraries not found or could not be loaded; Switching to CPU only.\n"
     ]
    }
   ],
   "source": [
    "\"\"\"\n",
    "Just for test the GPytorch functionality\n",
    "\"\"\"\n",
    "import math\n",
    "import torch\n",
    "import gpytorch\n",
    "from matplotlib import pyplot as plt"
   ]
  },
  {
   "cell_type": "code",
   "execution_count": 2,
   "id": "7c19cd31-c59a-48e3-80ce-3c71cd359084",
   "metadata": {},
   "outputs": [],
   "source": [
    "# Training data is 100 points in [0,1] inclusive regularly spaced\n",
    "train_x = torch.linspace(0, 1, 100)\n",
    "# True function is sin(2*pi*x) with Gaussian noise\n",
    "train_y = torch.sin(train_x * (2 * math.pi)) + torch.randn(train_x.size()) * math.sqrt(0.04)"
   ]
  },
  {
   "cell_type": "code",
   "execution_count": 10,
   "id": "9ab3fc44-059c-446b-83f0-9d834d5c6a6b",
   "metadata": {},
   "outputs": [],
   "source": [
    "# We will use the simplest form of GP model, exact inference\n",
    "class ExactGPModel(gpytorch.models.ExactGP):\n",
    "    def __init__(self, train_x, train_y, likelihood):\n",
    "        super(ExactGPModel, self).__init__(train_x, train_y, likelihood)\n",
    "        self.mean_module = gpytorch.means.ConstantMean()\n",
    "        self.covar_module = gpytorch.kernels.ScaleKernel(gpytorch.kernels.RBFKernel())\n",
    "\n",
    "    def forward(self, x):\n",
    "        mean_x = self.mean_module(x)\n",
    "        covar_x = self.covar_module(x)\n",
    "        return gpytorch.distributions.MultivariateNormal(mean_x, covar_x)\n",
    "\n",
    "# initialize likelihood and model\n",
    "likelihood = gpytorch.likelihoods.GaussianLikelihood() # likelihood is p(y|f,x), for example y = f(x) + e, e ~ N(0,I)\n",
    "model = ExactGPModel(train_x, train_y, likelihood)"
   ]
  },
  {
   "cell_type": "code",
   "execution_count": 11,
   "id": "44cea2db-b2ef-4e3d-a734-7b5672795c8b",
   "metadata": {},
   "outputs": [
    {
     "name": "stdout",
     "output_type": "stream",
     "text": [
      "cuda:0\n",
      "Iter 1/50 - Loss: 0.960   lengthscale: 0.693   noise: 0.693\n",
      "Iter 2/50 - Loss: 0.930   lengthscale: 0.644   noise: 0.644\n",
      "Iter 3/50 - Loss: 0.896   lengthscale: 0.598   noise: 0.598\n",
      "Iter 4/50 - Loss: 0.858   lengthscale: 0.555   noise: 0.554\n",
      "Iter 5/50 - Loss: 0.813   lengthscale: 0.514   noise: 0.513\n",
      "Iter 6/50 - Loss: 0.763   lengthscale: 0.476   noise: 0.474\n",
      "Iter 7/50 - Loss: 0.709   lengthscale: 0.439   noise: 0.437\n",
      "Iter 8/50 - Loss: 0.653   lengthscale: 0.405   noise: 0.402\n",
      "Iter 9/50 - Loss: 0.599   lengthscale: 0.372   noise: 0.369\n",
      "Iter 10/50 - Loss: 0.550   lengthscale: 0.342   noise: 0.339\n",
      "Iter 11/50 - Loss: 0.506   lengthscale: 0.315   noise: 0.310\n",
      "Iter 12/50 - Loss: 0.466   lengthscale: 0.291   noise: 0.283\n",
      "Iter 13/50 - Loss: 0.430   lengthscale: 0.271   noise: 0.259\n",
      "Iter 14/50 - Loss: 0.395   lengthscale: 0.254   noise: 0.236\n",
      "Iter 15/50 - Loss: 0.361   lengthscale: 0.240   noise: 0.215\n",
      "Iter 16/50 - Loss: 0.327   lengthscale: 0.229   noise: 0.196\n",
      "Iter 17/50 - Loss: 0.294   lengthscale: 0.220   noise: 0.178\n",
      "Iter 18/50 - Loss: 0.262   lengthscale: 0.214   noise: 0.162\n",
      "Iter 19/50 - Loss: 0.229   lengthscale: 0.210   noise: 0.147\n",
      "Iter 20/50 - Loss: 0.198   lengthscale: 0.207   noise: 0.133\n",
      "Iter 21/50 - Loss: 0.166   lengthscale: 0.206   noise: 0.121\n",
      "Iter 22/50 - Loss: 0.136   lengthscale: 0.206   noise: 0.110\n",
      "Iter 23/50 - Loss: 0.106   lengthscale: 0.208   noise: 0.100\n",
      "Iter 24/50 - Loss: 0.078   lengthscale: 0.211   noise: 0.091\n",
      "Iter 25/50 - Loss: 0.052   lengthscale: 0.215   noise: 0.083\n",
      "Iter 26/50 - Loss: 0.027   lengthscale: 0.220   noise: 0.075\n",
      "Iter 27/50 - Loss: 0.004   lengthscale: 0.226   noise: 0.069\n",
      "Iter 28/50 - Loss: -0.016   lengthscale: 0.233   noise: 0.063\n",
      "Iter 29/50 - Loss: -0.034   lengthscale: 0.241   noise: 0.057\n",
      "Iter 30/50 - Loss: -0.048   lengthscale: 0.250   noise: 0.053\n",
      "Iter 31/50 - Loss: -0.060   lengthscale: 0.259   noise: 0.049\n",
      "Iter 32/50 - Loss: -0.069   lengthscale: 0.269   noise: 0.045\n",
      "Iter 33/50 - Loss: -0.074   lengthscale: 0.279   noise: 0.042\n",
      "Iter 34/50 - Loss: -0.077   lengthscale: 0.289   noise: 0.039\n",
      "Iter 35/50 - Loss: -0.076   lengthscale: 0.298   noise: 0.037\n",
      "Iter 36/50 - Loss: -0.074   lengthscale: 0.306   noise: 0.035\n",
      "Iter 37/50 - Loss: -0.069   lengthscale: 0.312   noise: 0.033\n",
      "Iter 38/50 - Loss: -0.065   lengthscale: 0.317   noise: 0.032\n",
      "Iter 39/50 - Loss: -0.061   lengthscale: 0.318   noise: 0.030\n",
      "Iter 40/50 - Loss: -0.057   lengthscale: 0.318   noise: 0.030\n",
      "Iter 41/50 - Loss: -0.055   lengthscale: 0.315   noise: 0.029\n",
      "Iter 42/50 - Loss: -0.054   lengthscale: 0.310   noise: 0.029\n",
      "Iter 43/50 - Loss: -0.054   lengthscale: 0.305   noise: 0.028\n",
      "Iter 44/50 - Loss: -0.055   lengthscale: 0.299   noise: 0.028\n",
      "Iter 45/50 - Loss: -0.057   lengthscale: 0.294   noise: 0.029\n",
      "Iter 46/50 - Loss: -0.058   lengthscale: 0.288   noise: 0.029\n",
      "Iter 47/50 - Loss: -0.061   lengthscale: 0.284   noise: 0.029\n",
      "Iter 48/50 - Loss: -0.063   lengthscale: 0.280   noise: 0.030\n",
      "Iter 49/50 - Loss: -0.065   lengthscale: 0.277   noise: 0.031\n",
      "Iter 50/50 - Loss: -0.068   lengthscale: 0.276   noise: 0.032\n"
     ]
    }
   ],
   "source": [
    "import os\n",
    "smoke_test = ('CI' in os.environ)\n",
    "training_iter = 2 if smoke_test else 50\n",
    "\n",
    "\n",
    "# Find optimal model hyperparameters\n",
    "device = \"cuda\"\n",
    "model = model.to(device)\n",
    "train_x = train_x.to(device)\n",
    "train_y = train_y.to(device)\n",
    "likelihood = likelihood.to(device)\n",
    "\n",
    "model.train()\n",
    "likelihood.train()\n",
    "\n",
    "print(train_x.device)\n",
    "\n",
    "# Use the adam optimizer\n",
    "optimizer = torch.optim.Adam(model.parameters(), lr=0.1)  # Includes GaussianLikelihood parameters\n",
    "\n",
    "# \"Loss\" for GPs - the marginal log likelihood\n",
    "mll = gpytorch.mlls.ExactMarginalLogLikelihood(likelihood, model)\n",
    "\n",
    "for i in range(training_iter):\n",
    "    # Zero gradients from previous iteration\n",
    "    optimizer.zero_grad()\n",
    "    # Output from model\n",
    "    output = model(train_x)\n",
    "    # Calc loss and backprop gradients\n",
    "    loss = -mll(output, train_y)\n",
    "    loss.backward()\n",
    "    print('Iter %d/%d - Loss: %.3f   lengthscale: %.3f   noise: %.3f' % (\n",
    "        i + 1, training_iter, loss.item(),\n",
    "        model.covar_module.base_kernel.lengthscale.item(),\n",
    "        model.likelihood.noise.item()\n",
    "    ))\n",
    "    optimizer.step()"
   ]
  },
  {
   "cell_type": "code",
   "execution_count": 14,
   "id": "d23372fc-81f2-4674-9d79-e4974d54c293",
   "metadata": {},
   "outputs": [],
   "source": [
    "model.eval()\n",
    "likelihood.eval()\n",
    "\n",
    "# Test points are regularly spaced along [0,1]\n",
    "# Make predictions by feeding model through likelihood\n",
    "with torch.no_grad(), gpytorch.settings.fast_pred_var():\n",
    "    test_x = torch.linspace(0, 1, 51).to(device)\n",
    "    observed_pred = likelihood(model(test_x))"
   ]
  },
  {
   "cell_type": "code",
   "execution_count": 18,
   "id": "4878b460-f7cf-45dd-831f-c0c6f5e00b26",
   "metadata": {},
   "outputs": [
    {
     "name": "stderr",
     "output_type": "stream",
     "text": [
      "C:\\ProgramData\\miniconda3\\envs\\ai\\Lib\\site-packages\\linear_operator\\utils\\cholesky.py:40: NumericalWarning: A not p.d., added jitter of 1.0e-06 to the diagonal\n",
      "  warnings.warn(\n"
     ]
    }
   ],
   "source": [
    "f_preds = model(test_x)\n",
    "y_preds = likelihood(model(test_x))\n",
    "\n",
    "f_mean = f_preds.mean\n",
    "f_var = f_preds.variance\n",
    "f_covar = f_preds.covariance_matrix\n",
    "f_samples = f_preds.sample(sample_shape=torch.Size((1000,)))"
   ]
  },
  {
   "cell_type": "code",
   "execution_count": 23,
   "id": "fa3dfeab-c71b-467e-94b9-3c92eab48a58",
   "metadata": {},
   "outputs": [
    {
     "data": {
      "image/png": "[encoded data removed]",
      "text/plain": [
       "<Figure size 400x300 with 1 Axes>"
      ]
     },
     "metadata": {},
     "output_type": "display_data"
    }
   ],
   "source": [
    "with torch.no_grad():\n",
    "    # Initialize plot\n",
    "    f, ax = plt.subplots(1, 1, figsize=(4, 3))\n",
    "\n",
    "    # Get upper and lower confidence bounds\n",
    "    lower, upper = observed_pred.confidence_region()\n",
    "    # Plot training data as black stars\n",
    "    ax.plot(train_x.cpu().numpy(), train_y.cpu().numpy(), 'k*')\n",
    "    # Plot predictive means as blue line\n",
    "    ax.plot(test_x.cpu().numpy(), observed_pred.mean.cpu().numpy(), 'b')\n",
    "    # Shade between the lower and upper confidence bounds\n",
    "    ax.fill_between(test_x.cpu().numpy(), lower.cpu().numpy(), upper.cpu().numpy(), alpha=0.5)\n",
    "    ax.set_ylim([-3, 3])\n",
    "    ax.legend(['Observed Data', 'Mean', 'Confidence'])"
   ]
  },
  {
   "cell_type": "code",
   "execution_count": null,
   "id": "f66f9abf-2970-4d94-ae76-f731570b3bd1",
   "metadata": {},
   "outputs": [],
   "source": []
  }
 ],
 "metadata": {
  "kernelspec": {
   "display_name": "Python 3 (ipykernel)",
   "language": "python",
   "name": "python3"
  },
  "language_info": {
   "codemirror_mode": {
    "name": "ipython",
    "version": 3
   },
   "file_extension": ".py",
   "mimetype": "text/x-python",
   "name": "python",
   "nbconvert_exporter": "python",
   "pygments_lexer": "ipython3",
   "version": "3.12.4"
  }
 },
 "nbformat": 4,
 "nbformat_minor": 5
}
