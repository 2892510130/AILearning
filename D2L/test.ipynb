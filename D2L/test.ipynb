{
 "cells": [
  {
   "cell_type": "code",
   "execution_count": 5,
   "id": "c473bf87-531e-4ec4-b9be-fa9d6b212c85",
   "metadata": {},
   "outputs": [],
   "source": [
    "import torch\n",
    "from torch import nn\n",
    "import numpy as np\n",
    "import torchvision.models as models\n",
    "import torch.nn.functional as F"
   ]
  },
  {
   "cell_type": "code",
   "execution_count": 5,
   "id": "32f081ee-1b4e-4742-a8c0-849de2da25c8",
   "metadata": {},
   "outputs": [
    {
     "name": "stdout",
     "output_type": "stream",
     "text": [
      "[0, 1, 2, 3, 4, 5, 6, 7, 8, 9]\n",
      "[4, 8, 1, 3, 5, 2, 6, 7, 0, 9]\n"
     ]
    }
   ],
   "source": [
    "\"\"\"\n",
    "Random shuffle the indices\n",
    "\"\"\"\n",
    "import random\n",
    "indices = list(range(10))\n",
    "print(indices)\n",
    "random.shuffle(indices)\n",
    "print(indices)"
   ]
  },
  {
   "cell_type": "code",
   "execution_count": 24,
   "id": "db085df5-67f5-435b-b05c-25141964a97b",
   "metadata": {
    "editable": true,
    "slideshow": {
     "slide_type": ""
    },
    "tags": []
   },
   "outputs": [
    {
     "name": "stdout",
     "output_type": "stream",
     "text": [
      "Animal\n",
      "Animal Animal\n"
     ]
    }
   ],
   "source": [
    "\"\"\"\n",
    "Wrapper will auto call the wrapper func\n",
    "\"\"\"\n",
    "class Animal:\n",
    "    def __init__(self):\n",
    "        self.name = \"Animal\"\n",
    "\n",
    "def add_to_class(Class):\n",
    "    \"\"\"Register functions as methods in created class.\n",
    "\n",
    "    Defined in :numref:`sec_oo-design`\"\"\"\n",
    "    def wrapper(obj):\n",
    "        setattr(Class, obj.__name__, obj)\n",
    "    return wrapper\n",
    "\n",
    "@add_to_class(Animal)\n",
    "def print_name(self):\n",
    "    print(self.name)\n",
    "\n",
    "def print_name_twice(self):\n",
    "    print(self.name, self.name)\n",
    "\n",
    "setattr(Animal, print_name_twice.__name__, print_name_twice)\n",
    "\n",
    "animal = Animal()\n",
    "animal.print_name()\n",
    "\n",
    "animal.print_name_twice()"
   ]
  },
  {
   "cell_type": "code",
   "execution_count": 21,
   "id": "1c373172-45e2-4975-8c7c-c5f1aef2554b",
   "metadata": {},
   "outputs": [
    {
     "name": "stdout",
     "output_type": "stream",
     "text": [
      "This is my wrapper!\n",
      "This is print\n"
     ]
    }
   ],
   "source": [
    "\"\"\"\n",
    "Wrapper will auto call the wrapper func\n",
    "\"\"\"\n",
    "def my_wrapper(obj):\n",
    "    print(\"This is my wrapper!\")\n",
    "    return obj\n",
    "\n",
    "@my_wrapper\n",
    "def print_msg():\n",
    "    print(\"This is print\")\n",
    "\n",
    "print_msg()"
   ]
  },
  {
   "cell_type": "code",
   "execution_count": 28,
   "id": "4ac5b2bc-1585-41ee-903c-375d31831010",
   "metadata": {},
   "outputs": [
    {
     "name": "stdout",
     "output_type": "stream",
     "text": [
      "<frame at 0x000001CD395F6440, file 'C:\\\\Users\\\\86182\\\\AppData\\\\Local\\\\Temp\\\\ipykernel_15624\\\\3920708156.py', line 29, code __init__>\n",
      "ArgInfo(args=['self', 'xlabel', 'ylabel', 'xlim', 'ylim', 'xscale', 'yscale', 'ls', 'colors', 'fig', 'axes', 'figsize', 'display'], varargs=None, keywords=None, locals={'self': <__main__.ProgressBoard object at 0x000001CD3937BBF0>, 'xlabel': None, 'ylabel': None, 'xlim': None, 'ylim': None, 'xscale': 'linear', 'yscale': 'linear', 'ls': ['-', '--', '-.', ':'], 'colors': ['C0', 'C1', 'C2', 'C3'], 'fig': None, 'axes': None, 'figsize': (3.5, 2.5), 'display': True})\n",
      "{'xlabel': None, 'ylabel': None, 'xlim': None, 'ylim': None, 'xscale': 'linear', 'yscale': 'linear', 'ls': ['-', '--', '-.', ':'], 'colors': ['C0', 'C1', 'C2', 'C3'], 'fig': None, 'axes': None, 'figsize': (3.5, 2.5), 'display': True}\n"
     ]
    }
   ],
   "source": [
    "import inspect\n",
    "class HyperParameters:\n",
    "    \"\"\"The base class of hyperparameters.\"\"\"\n",
    "    def save_hyperparameters(self, ignore=[]):\n",
    "        \"\"\"Defined in :numref:`sec_oo-design`\"\"\"\n",
    "        raise NotImplemented\n",
    "\n",
    "    def save_hyperparameters(self, ignore=[]):\n",
    "        \"\"\"Save function arguments into class attributes.\n",
    "    \n",
    "        Defined in :numref:`sec_utils`\"\"\"\n",
    "        frame = inspect.currentframe().f_back\n",
    "        _, _, _, local_vars = inspect.getargvalues(frame)\n",
    "        print(frame)\n",
    "        print(inspect.getargvalues(frame))\n",
    "        self.hparams = {k:v for k, v in local_vars.items()\n",
    "                        if k not in set(ignore+['self']) and not k.startswith('_')}\n",
    "        for k, v in self.hparams.items():\n",
    "            setattr(self, k, v)\n",
    "\n",
    "class ProgressBoard(HyperParameters):\n",
    "    \"\"\"The board that plots data points in animation.\n",
    "\n",
    "    Defined in :numref:`sec_oo-design`\"\"\"\n",
    "    def __init__(self, xlabel=None, ylabel=None, xlim=None,\n",
    "                 ylim=None, xscale='linear', yscale='linear',\n",
    "                 ls=['-', '--', '-.', ':'], colors=['C0', 'C1', 'C2', 'C3'],\n",
    "                 fig=None, axes=None, figsize=(3.5, 2.5), display=True):\n",
    "        self.save_hyperparameters()\n",
    "\n",
    "pb = ProgressBoard()\n",
    "print(pb.hparams)"
   ]
  },
  {
   "cell_type": "code",
   "execution_count": 6,
   "id": "6b6f4615-60c8-4dba-af7e-a22070456664",
   "metadata": {},
   "outputs": [
    {
     "name": "stdout",
     "output_type": "stream",
     "text": [
      "None\n"
     ]
    }
   ],
   "source": [
    "\"\"\"\n",
    "Must call requires_grad_ before calculation\n",
    "\"\"\"\n",
    "x = torch.tensor([1, 2.0])\n",
    "y = x * x\n",
    "x.requires_grad_(True)\n",
    "print(y.grad_fn)"
   ]
  },
  {
   "cell_type": "code",
   "execution_count": 18,
   "id": "f96e8366-d7cb-469a-8d8b-343f814dea74",
   "metadata": {},
   "outputs": [
    {
     "name": "stdout",
     "output_type": "stream",
     "text": [
      "0.25\n",
      "tensor(0.5000)\n"
     ]
    }
   ],
   "source": [
    "\"\"\"\n",
    "Pytorch var and std are unbiased\n",
    "\"\"\"\n",
    "a = [1, 2.0]\n",
    "print(np.var(a))\n",
    "print((torch.tensor(a)).var())"
   ]
  },
  {
   "cell_type": "code",
   "execution_count": 6,
   "id": "a9c62589-e24c-4cb0-887f-40a820ecc476",
   "metadata": {},
   "outputs": [
    {
     "name": "stdout",
     "output_type": "stream",
     "text": [
      "torch.Size([1, 64, 5, 7]) torch.Size([1, 5, 7])\n"
     ]
    }
   ],
   "source": [
    "\"\"\"\n",
    "Adaptive pool\n",
    "\"\"\"\n",
    "m = nn.AdaptiveAvgPool2d((5, 7))\n",
    "input_1 = torch.randn(1, 64, 8, 9)\n",
    "input_2 = torch.randn(1, 8, 9)\n",
    "output_1 = m(input_1)\n",
    "output_2 = m(input_2)\n",
    "print(output_1.shape, output_2.shape)"
   ]
  },
  {
   "cell_type": "code",
   "execution_count": 9,
   "id": "84c62df2-2b95-42c7-9355-bb76104e6ce7",
   "metadata": {},
   "outputs": [
    {
     "name": "stdout",
     "output_type": "stream",
     "text": [
      "torch.Size([32, 10]) torch.Size([32, 100]) torch.Size([32, 2352])\n"
     ]
    }
   ],
   "source": [
    "\"\"\"\n",
    "Flatten, start_dim = 1, end_dim = -1\n",
    "\"\"\"\n",
    "f = nn.Flatten()\n",
    "print(f(torch.zeros(32, 10)).shape, f(torch.zeros(32, 10, 10)).shape, f(torch.zeros(32, 3, 28, 28)).shape)"
   ]
  },
  {
   "cell_type": "code",
   "execution_count": 12,
   "id": "70f285e1-0348-421d-8f25-37754b879171",
   "metadata": {},
   "outputs": [
    {
     "name": "stdout",
     "output_type": "stream",
     "text": [
      "DenseNet Memory Usage: 278337536\n",
      "ResNet Memory Usage: 258443264\n"
     ]
    }
   ],
   "source": [
    "# Load DenseNet and ResNet models\n",
    "densenet = models.densenet121(pretrained=False).cuda()\n",
    "resnet = models.resnet50(pretrained=False).cuda()\n",
    "\n",
    "# Create a dummy input of shape (batch_size, channels, height, width)\n",
    "input_tensor = torch.randn(1, 3, 224, 224).cuda()\n",
    "\n",
    "# Measure GPU memory usage\n",
    "def measure_memory(model, input_tensor):\n",
    "    torch.cuda.reset_max_memory_allocated()\n",
    "    _ = model(input_tensor)\n",
    "    return torch.cuda.max_memory_allocated()\n",
    "\n",
    "print(\"DenseNet Memory Usage:\", measure_memory(densenet, input_tensor))\n",
    "print(\"ResNet Memory Usage:\", measure_memory(resnet, input_tensor))"
   ]
  },
  {
   "cell_type": "code",
   "execution_count": null,
   "id": "a6a2343f-99e2-4e3c-840e-e4232f41ff83",
   "metadata": {},
   "outputs": [],
   "source": [
    "torch.cuda.reset_max_memory_allocated()"
   ]
  },
  {
   "cell_type": "code",
   "execution_count": 3,
   "id": "ee8e0e36-5dc1-4a99-ab23-f5af54551892",
   "metadata": {},
   "outputs": [
    {
     "data": {
      "text/plain": [
       "1"
      ]
     },
     "execution_count": 3,
     "metadata": {},
     "output_type": "execute_result"
    }
   ],
   "source": [
    "state = [1]\n",
    "state, = state\n",
    "state"
   ]
  },
  {
   "cell_type": "code",
   "execution_count": 27,
   "id": "f2ee142f-7c08-4552-99b0-8d252e6f55a2",
   "metadata": {
    "editable": true,
    "slideshow": {
     "slide_type": ""
    },
    "tags": []
   },
   "outputs": [
    {
     "name": "stdout",
     "output_type": "stream",
     "text": [
      "tensor([[[1, 0, 0, 0, 0],\n",
      "         [0, 1, 0, 0, 0]],\n",
      "\n",
      "        [[0, 0, 1, 0, 0],\n",
      "         [0, 0, 1, 0, 0]],\n",
      "\n",
      "        [[0, 0, 0, 1, 0],\n",
      "         [0, 0, 0, 0, 1]]])\n",
      "torch.Size([6])\n",
      "torch.Size([3, 2, 5])\n",
      "torch.Size([6, 5])\n",
      "tensor(1.5715)\n"
     ]
    }
   ],
   "source": [
    "one_hot = F.one_hot(torch.tensor([[0, 2, 3], [1, 2, 4]]).reshape(2, -1).T, 5)\n",
    "print(one_hot)\n",
    "print(torch.tensor([[0, 2, 3.], [1, 2, 4]]).reshape(-1,).shape)\n",
    "print(one_hot.shape)\n",
    "print(torch.reshape(one_hot, (-1, one_hot.shape[-1])).shape)\n",
    "loss = F.cross_entropy(\n",
    "            torch.reshape(one_hot, (-1, one_hot.shape[-1])).type(torch.float32), torch.tensor([[0, 2, 3], [1, 2, 4]]).reshape(-1,), reduction='mean')\n",
    "print(loss)"
   ]
  },
  {
   "cell_type": "code",
   "execution_count": null,
   "id": "47d38bca-e9c9-468b-9c7c-8fd9ad8962d3",
   "metadata": {
    "editable": true,
    "slideshow": {
     "slide_type": ""
    },
    "tags": []
   },
   "outputs": [],
   "source": []
  }
 ],
 "metadata": {
  "kernelspec": {
   "display_name": "Python 3 (ipykernel)",
   "language": "python",
   "name": "python3"
  },
  "language_info": {
   "codemirror_mode": {
    "name": "ipython",
    "version": 3
   },
   "file_extension": ".py",
   "mimetype": "text/x-python",
   "name": "python",
   "nbconvert_exporter": "python",
   "pygments_lexer": "ipython3",
   "version": "3.12.8"
  }
 },
 "nbformat": 4,
 "nbformat_minor": 5
}
