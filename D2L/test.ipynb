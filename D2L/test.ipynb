{
 "cells": [
  {
   "cell_type": "code",
   "execution_count": 1,
   "id": "c473bf87-531e-4ec4-b9be-fa9d6b212c85",
   "metadata": {},
   "outputs": [],
   "source": [
    "import torch\n",
    "from torch import nn\n",
    "import numpy as np\n",
    "import torchvision.models as models\n",
    "import torch.nn.functional as F"
   ]
  },
  {
   "cell_type": "code",
   "execution_count": 7,
   "id": "65a8821f-73fd-478d-bfdc-0aa28ef23890",
   "metadata": {},
   "outputs": [
    {
     "name": "stdout",
     "output_type": "stream",
     "text": [
      "tensor([[[[0.0625, 0.1875, 0.1875, 0.0625],\n",
      "          [0.1875, 0.5625, 0.5625, 0.1875],\n",
      "          [0.1875, 0.5625, 0.5625, 0.1875],\n",
      "          [0.0625, 0.1875, 0.1875, 0.0625]],\n",
      "\n",
      "         [[0.0625, 0.1875, 0.1875, 0.0625],\n",
      "          [0.1875, 0.5625, 0.5625, 0.1875],\n",
      "          [0.1875, 0.5625, 0.5625, 0.1875],\n",
      "          [0.0625, 0.1875, 0.1875, 0.0625]]]])\n",
      "9.0 3.0 1.0\n"
     ]
    }
   ],
   "source": [
    "def bilinear_kernel(in_channels, out_channels, kernel_size):\n",
    "    \"\"\"\n",
    "    The bilinear kernel estimates pixel values at new positions by taking weighted averages of nearby pixels. \n",
    "    The weights decrease linearly with distance from the interpolation point.\n",
    "    \"\"\"\n",
    "    factor = (kernel_size + 1) // 2\n",
    "    if kernel_size % 2 == 1:\n",
    "        center = factor - 1\n",
    "    else:\n",
    "        center = factor - 0.5\n",
    "    og = (torch.arange(kernel_size).reshape(-1, 1),\n",
    "          torch.arange(kernel_size).reshape(1, -1))\n",
    "    filt = (1 - torch.abs(og[0] - center) / factor) * \\\n",
    "           (1 - torch.abs(og[1] - center) / factor)\n",
    "    weight = torch.zeros((in_channels, out_channels,\n",
    "                          kernel_size, kernel_size))\n",
    "    weight[range(in_channels), range(out_channels), :, :] = filt # every channel initialize with the same one\n",
    "    return weight\n",
    "\n",
    "# conv_trans = nn.ConvTranspose2d(3, 3, kernel_size=4, padding=1, stride=2,\n",
    "#                                 bias=False)\n",
    "# conv_trans.weight.data.copy_(bilinear_kernel(3, 3, 4));\n",
    "print(bilinear_kernel(1, 2, 4))\n",
    "print(16 * 0.5625, 16 * 0.1875, 16 * 0.0625)"
   ]
  },
  {
   "cell_type": "code",
   "execution_count": 13,
   "id": "fd572d38-4e8f-4539-8b98-71b1d7d886f6",
   "metadata": {},
   "outputs": [
    {
     "name": "stdout",
     "output_type": "stream",
     "text": [
      "tensor([[ 0.9518,  1.1292, -0.6121],\n",
      "        [ 0.9860,  0.0299,  1.0424],\n",
      "        [-0.2458, -0.2304,  0.1779],\n",
      "        [-2.2789, -0.4275, -0.1470],\n",
      "        [-0.9690, -0.3444,  1.6849],\n",
      "        [ 0.7480, -2.2489, -0.6851]])\n",
      "box_map:\n",
      " tensor([-1, -1, -1, -1, -1, -1])\n",
      "max_ious:\n",
      " tensor([ 1.1292,  1.0424,  0.1779, -0.1470,  1.6849,  0.7480])\n",
      "indices:\n",
      " tensor([1, 2, 2, 2, 2, 0])\n",
      "anc_i:\n",
      " tensor([0, 1, 4, 5])\n",
      "box_j:\n",
      " tensor([1, 2, 2, 0])\n",
      "box_map:\n",
      " tensor([ 1,  2, -1, -1,  2,  0])\n",
      "tensor(14)\n",
      "tensor(1)\n",
      "tensor(3)\n",
      "col_discard:\n",
      " tensor([-1, -1, -1, -1, -1, -1])\n",
      "row_discard:\n",
      " tensor([-1, -1, -1])\n",
      "box_map:\n",
      " tensor([ 1,  0, -1, -1,  2,  0])\n"
     ]
    }
   ],
   "source": [
    "\"\"\"\n",
    "Anchor sign to ground truth\n",
    "\"\"\"\n",
    "jaccard = torch.randn((6, 3))\n",
    "print(jaccard)\n",
    "anchors_bbox_map = torch.full((6,), -1, dtype=torch.long)\n",
    "print(\"box_map:\\n\", anchors_bbox_map)\n",
    "max_ious, indices = torch.max(jaccard, dim=1)\n",
    "print(\"max_ious:\\n\", max_ious)\n",
    "print(\"indices:\\n\", indices)\n",
    "anc_i = torch.nonzero(max_ious >= 0.5).reshape(-1) # anchors with large iou\n",
    "box_j = indices[max_ious >= 0.5]                   # [anc_i, box_j] is the anchors with large iou\n",
    "print(\"anc_i:\\n\", anc_i)\n",
    "print(\"box_j:\\n\", box_j)\n",
    "anchors_bbox_map[anc_i] = box_j\n",
    "print(\"box_map:\\n\", anchors_bbox_map)\n",
    "col_discard = torch.full((6,), -1)\n",
    "row_discard = torch.full((3,), -1)\n",
    "for _ in range(3):\n",
    "    max_idx = torch.argmax(jaccard)  # Find the largest IoU\n",
    "    print(max_idx)\n",
    "    box_idx = (max_idx % 3).long()\n",
    "    anc_idx = (max_idx / 3).long()\n",
    "    anchors_bbox_map[anc_idx] = box_idx\n",
    "    jaccard[:, box_idx] = col_discard\n",
    "    jaccard[anc_idx, :] = row_discard\n",
    "print(\"col_discard:\\n\", col_discard)\n",
    "print(\"row_discard:\\n\", row_discard)\n",
    "print(\"box_map:\\n\", anchors_bbox_map)"
   ]
  },
  {
   "cell_type": "code",
   "execution_count": 1,
   "id": "32f081ee-1b4e-4742-a8c0-849de2da25c8",
   "metadata": {},
   "outputs": [
    {
     "name": "stdout",
     "output_type": "stream",
     "text": [
      "[0, 1, 2, 3, 4, 5, 6, 7, 8, 9]\n",
      "[6, 2, 4, 1, 5, 7, 0, 3, 8, 9]\n"
     ]
    }
   ],
   "source": [
    "\"\"\"\n",
    "Random shuffle the indices\n",
    "\"\"\"\n",
    "import random\n",
    "indices = list(range(10))\n",
    "print(indices)\n",
    "random.shuffle(indices)\n",
    "print(indices)"
   ]
  },
  {
   "cell_type": "code",
   "execution_count": 24,
   "id": "db085df5-67f5-435b-b05c-25141964a97b",
   "metadata": {
    "editable": true,
    "slideshow": {
     "slide_type": ""
    },
    "tags": []
   },
   "outputs": [
    {
     "name": "stdout",
     "output_type": "stream",
     "text": [
      "Animal\n",
      "Animal Animal\n"
     ]
    }
   ],
   "source": [
    "\"\"\"\n",
    "Wrapper will auto call the wrapper func\n",
    "\"\"\"\n",
    "class Animal:\n",
    "    def __init__(self):\n",
    "        self.name = \"Animal\"\n",
    "\n",
    "def add_to_class(Class):\n",
    "    \"\"\"Register functions as methods in created class.\n",
    "\n",
    "    Defined in :numref:`sec_oo-design`\"\"\"\n",
    "    def wrapper(obj):\n",
    "        setattr(Class, obj.__name__, obj)\n",
    "    return wrapper\n",
    "\n",
    "@add_to_class(Animal)\n",
    "def print_name(self):\n",
    "    print(self.name)\n",
    "\n",
    "def print_name_twice(self):\n",
    "    print(self.name, self.name)\n",
    "\n",
    "setattr(Animal, print_name_twice.__name__, print_name_twice)\n",
    "\n",
    "animal = Animal()\n",
    "animal.print_name()\n",
    "\n",
    "animal.print_name_twice()"
   ]
  },
  {
   "cell_type": "code",
   "execution_count": 21,
   "id": "1c373172-45e2-4975-8c7c-c5f1aef2554b",
   "metadata": {},
   "outputs": [
    {
     "name": "stdout",
     "output_type": "stream",
     "text": [
      "This is my wrapper!\n",
      "This is print\n"
     ]
    }
   ],
   "source": [
    "\"\"\"\n",
    "Wrapper will auto call the wrapper func\n",
    "\"\"\"\n",
    "def my_wrapper(obj):\n",
    "    print(\"This is my wrapper!\")\n",
    "    return obj\n",
    "\n",
    "@my_wrapper\n",
    "def print_msg():\n",
    "    print(\"This is print\")\n",
    "\n",
    "print_msg()"
   ]
  },
  {
   "cell_type": "code",
   "execution_count": 28,
   "id": "4ac5b2bc-1585-41ee-903c-375d31831010",
   "metadata": {},
   "outputs": [
    {
     "name": "stdout",
     "output_type": "stream",
     "text": [
      "<frame at 0x000001CD395F6440, file 'C:\\\\Users\\\\86182\\\\AppData\\\\Local\\\\Temp\\\\ipykernel_15624\\\\3920708156.py', line 29, code __init__>\n",
      "ArgInfo(args=['self', 'xlabel', 'ylabel', 'xlim', 'ylim', 'xscale', 'yscale', 'ls', 'colors', 'fig', 'axes', 'figsize', 'display'], varargs=None, keywords=None, locals={'self': <__main__.ProgressBoard object at 0x000001CD3937BBF0>, 'xlabel': None, 'ylabel': None, 'xlim': None, 'ylim': None, 'xscale': 'linear', 'yscale': 'linear', 'ls': ['-', '--', '-.', ':'], 'colors': ['C0', 'C1', 'C2', 'C3'], 'fig': None, 'axes': None, 'figsize': (3.5, 2.5), 'display': True})\n",
      "{'xlabel': None, 'ylabel': None, 'xlim': None, 'ylim': None, 'xscale': 'linear', 'yscale': 'linear', 'ls': ['-', '--', '-.', ':'], 'colors': ['C0', 'C1', 'C2', 'C3'], 'fig': None, 'axes': None, 'figsize': (3.5, 2.5), 'display': True}\n"
     ]
    }
   ],
   "source": [
    "import inspect\n",
    "class HyperParameters:\n",
    "    \"\"\"The base class of hyperparameters.\"\"\"\n",
    "    def save_hyperparameters(self, ignore=[]):\n",
    "        \"\"\"Defined in :numref:`sec_oo-design`\"\"\"\n",
    "        raise NotImplemented\n",
    "\n",
    "    def save_hyperparameters(self, ignore=[]):\n",
    "        \"\"\"Save function arguments into class attributes.\n",
    "    \n",
    "        Defined in :numref:`sec_utils`\"\"\"\n",
    "        frame = inspect.currentframe().f_back\n",
    "        _, _, _, local_vars = inspect.getargvalues(frame)\n",
    "        print(frame)\n",
    "        print(inspect.getargvalues(frame))\n",
    "        self.hparams = {k:v for k, v in local_vars.items()\n",
    "                        if k not in set(ignore+['self']) and not k.startswith('_')}\n",
    "        for k, v in self.hparams.items():\n",
    "            setattr(self, k, v)\n",
    "\n",
    "class ProgressBoard(HyperParameters):\n",
    "    \"\"\"The board that plots data points in animation.\n",
    "\n",
    "    Defined in :numref:`sec_oo-design`\"\"\"\n",
    "    def __init__(self, xlabel=None, ylabel=None, xlim=None,\n",
    "                 ylim=None, xscale='linear', yscale='linear',\n",
    "                 ls=['-', '--', '-.', ':'], colors=['C0', 'C1', 'C2', 'C3'],\n",
    "                 fig=None, axes=None, figsize=(3.5, 2.5), display=True):\n",
    "        self.save_hyperparameters()\n",
    "\n",
    "pb = ProgressBoard()\n",
    "print(pb.hparams)"
   ]
  },
  {
   "cell_type": "code",
   "execution_count": 6,
   "id": "6b6f4615-60c8-4dba-af7e-a22070456664",
   "metadata": {},
   "outputs": [
    {
     "name": "stdout",
     "output_type": "stream",
     "text": [
      "None\n"
     ]
    }
   ],
   "source": [
    "\"\"\"\n",
    "Must call requires_grad_ before calculation\n",
    "\"\"\"\n",
    "x = torch.tensor([1, 2.0])\n",
    "y = x * x\n",
    "x.requires_grad_(True)\n",
    "print(y.grad_fn)"
   ]
  },
  {
   "cell_type": "code",
   "execution_count": 18,
   "id": "f96e8366-d7cb-469a-8d8b-343f814dea74",
   "metadata": {},
   "outputs": [
    {
     "name": "stdout",
     "output_type": "stream",
     "text": [
      "0.25\n",
      "tensor(0.5000)\n"
     ]
    }
   ],
   "source": [
    "\"\"\"\n",
    "Pytorch var and std are unbiased\n",
    "\"\"\"\n",
    "a = [1, 2.0]\n",
    "print(np.var(a))\n",
    "print((torch.tensor(a)).var())"
   ]
  },
  {
   "cell_type": "code",
   "execution_count": 6,
   "id": "a9c62589-e24c-4cb0-887f-40a820ecc476",
   "metadata": {},
   "outputs": [
    {
     "name": "stdout",
     "output_type": "stream",
     "text": [
      "torch.Size([1, 64, 5, 7]) torch.Size([1, 5, 7])\n"
     ]
    }
   ],
   "source": [
    "\"\"\"\n",
    "Adaptive pool\n",
    "\"\"\"\n",
    "m = nn.AdaptiveAvgPool2d((5, 7))\n",
    "input_1 = torch.randn(1, 64, 8, 9)\n",
    "input_2 = torch.randn(1, 8, 9)\n",
    "output_1 = m(input_1)\n",
    "output_2 = m(input_2)\n",
    "print(output_1.shape, output_2.shape)"
   ]
  },
  {
   "cell_type": "code",
   "execution_count": 9,
   "id": "84c62df2-2b95-42c7-9355-bb76104e6ce7",
   "metadata": {},
   "outputs": [
    {
     "name": "stdout",
     "output_type": "stream",
     "text": [
      "torch.Size([32, 10]) torch.Size([32, 100]) torch.Size([32, 2352])\n"
     ]
    }
   ],
   "source": [
    "\"\"\"\n",
    "Flatten, start_dim = 1, end_dim = -1\n",
    "\"\"\"\n",
    "f = nn.Flatten()\n",
    "print(f(torch.zeros(32, 10)).shape, f(torch.zeros(32, 10, 10)).shape, f(torch.zeros(32, 3, 28, 28)).shape)"
   ]
  },
  {
   "cell_type": "code",
   "execution_count": 12,
   "id": "70f285e1-0348-421d-8f25-37754b879171",
   "metadata": {},
   "outputs": [
    {
     "name": "stdout",
     "output_type": "stream",
     "text": [
      "DenseNet Memory Usage: 278337536\n",
      "ResNet Memory Usage: 258443264\n"
     ]
    }
   ],
   "source": [
    "# Load DenseNet and ResNet models\n",
    "densenet = models.densenet121(pretrained=False).cuda()\n",
    "resnet = models.resnet50(pretrained=False).cuda()\n",
    "\n",
    "# Create a dummy input of shape (batch_size, channels, height, width)\n",
    "input_tensor = torch.randn(1, 3, 224, 224).cuda()\n",
    "\n",
    "# Measure GPU memory usage\n",
    "def measure_memory(model, input_tensor):\n",
    "    torch.cuda.reset_max_memory_allocated()\n",
    "    _ = model(input_tensor)\n",
    "    return torch.cuda.max_memory_allocated()\n",
    "\n",
    "print(\"DenseNet Memory Usage:\", measure_memory(densenet, input_tensor))\n",
    "print(\"ResNet Memory Usage:\", measure_memory(resnet, input_tensor))"
   ]
  },
  {
   "cell_type": "code",
   "execution_count": null,
   "id": "a6a2343f-99e2-4e3c-840e-e4232f41ff83",
   "metadata": {},
   "outputs": [],
   "source": [
    "torch.cuda.reset_max_memory_allocated()"
   ]
  },
  {
   "cell_type": "code",
   "execution_count": 3,
   "id": "ee8e0e36-5dc1-4a99-ab23-f5af54551892",
   "metadata": {},
   "outputs": [
    {
     "data": {
      "text/plain": [
       "1"
      ]
     },
     "execution_count": 3,
     "metadata": {},
     "output_type": "execute_result"
    }
   ],
   "source": [
    "state = [1]\n",
    "state, = state\n",
    "state"
   ]
  },
  {
   "cell_type": "code",
   "execution_count": 27,
   "id": "f2ee142f-7c08-4552-99b0-8d252e6f55a2",
   "metadata": {
    "editable": true,
    "slideshow": {
     "slide_type": ""
    },
    "tags": []
   },
   "outputs": [
    {
     "name": "stdout",
     "output_type": "stream",
     "text": [
      "tensor([[[1, 0, 0, 0, 0],\n",
      "         [0, 1, 0, 0, 0]],\n",
      "\n",
      "        [[0, 0, 1, 0, 0],\n",
      "         [0, 0, 1, 0, 0]],\n",
      "\n",
      "        [[0, 0, 0, 1, 0],\n",
      "         [0, 0, 0, 0, 1]]])\n",
      "torch.Size([6])\n",
      "torch.Size([3, 2, 5])\n",
      "torch.Size([6, 5])\n",
      "tensor(1.5715)\n"
     ]
    }
   ],
   "source": [
    "one_hot = F.one_hot(torch.tensor([[0, 2, 3], [1, 2, 4]]).reshape(2, -1).T, 5)\n",
    "print(one_hot)\n",
    "print(torch.tensor([[0, 2, 3.], [1, 2, 4]]).reshape(-1,).shape)\n",
    "print(one_hot.shape)\n",
    "print(torch.reshape(one_hot, (-1, one_hot.shape[-1])).shape)\n",
    "loss = F.cross_entropy(\n",
    "            torch.reshape(one_hot, (-1, one_hot.shape[-1])).type(torch.float32), torch.tensor([[0, 2, 3], [1, 2, 4]]).reshape(-1,), reduction='mean')\n",
    "print(loss)"
   ]
  },
  {
   "cell_type": "code",
   "execution_count": 4,
   "id": "47d38bca-e9c9-468b-9c7c-8fd9ad8962d3",
   "metadata": {
    "editable": true,
    "slideshow": {
     "slide_type": ""
    },
    "tags": []
   },
   "outputs": [
    {
     "name": "stdout",
     "output_type": "stream",
     "text": [
      "tensor([[0.6370, 0.0000],\n",
      "        [0.0000, 0.0000]])\n"
     ]
    }
   ],
   "source": [
    "class TiedModel(nn.Module):\n",
    "    def __init__(self):\n",
    "        super().__init__()\n",
    "        linear_layer = nn.LazyLinear(2)\n",
    "        # self.net = nn.Sequential(linear_layer, nn.ReLU(),\n",
    "        #                          linear_layer, nn.ReLU(),\n",
    "        #                          nn.LazyLinear(1))\n",
    "        self.net = nn.Sequential(nn.LazyLinear(2), nn.ReLU(),\n",
    "                                 linear_layer, nn.ReLU(),\n",
    "                                 linear_layer, nn.ReLU(),)\n",
    "    def forward(self, x):\n",
    "        return self.net(x)\n",
    "\n",
    "x = torch.tensor([1., 2.])\n",
    "x.requires_grad_(True)\n",
    "model = TiedModel()\n",
    "y = model(x)\n",
    "y.sum().backward()\n",
    "print(model.net[2].weight.grad)"
   ]
  },
  {
   "cell_type": "code",
   "execution_count": 13,
   "id": "95055ed5-e8f0-4d08-b5c7-e66080280168",
   "metadata": {},
   "outputs": [
    {
     "name": "stdout",
     "output_type": "stream",
     "text": [
      "tensor([[ 7., 11.],\n",
      "        [ 9., 13.]])\n",
      "tensor([[1., 1.],\n",
      "        [1., 1.]])\n",
      "tensor([[3., 3.],\n",
      "        [7., 7.]], grad_fn=<MmBackward0>)\n",
      "tensor([[4., 6.],\n",
      "        [4., 6.]], grad_fn=<MmBackward0>)\n"
     ]
    }
   ],
   "source": [
    "z = torch.tensor([[1, 2.], [3, 4.]])\n",
    "z.requires_grad_(True)\n",
    "u = z @ z\n",
    "v = u.sum()\n",
    "u.retain_grad()\n",
    "v.backward()\n",
    "print(z.grad)\n",
    "print(u.grad)\n",
    "print(z @ u.grad)\n",
    "print(u.grad @ z)"
   ]
  },
  {
   "cell_type": "code",
   "execution_count": 16,
   "id": "d2261740-7c39-411f-a948-aa438c144362",
   "metadata": {},
   "outputs": [
    {
     "name": "stdout",
     "output_type": "stream",
     "text": [
      "tensor([[3., 7.],\n",
      "        [3., 7.]])\n",
      "tensor([[4., 4.],\n",
      "        [6., 6.]])\n",
      "tensor([[1., 1.],\n",
      "        [1., 1.]])\n",
      "tensor([[ 7., 11.],\n",
      "        [ 9., 13.]], grad_fn=<AddBackward0>)\n",
      "tensor([[ 7., 11.],\n",
      "        [ 9., 13.]])\n"
     ]
    }
   ],
   "source": [
    "z1 = torch.tensor([[1, 2.], [3, 4.]])\n",
    "z1.requires_grad_(True)\n",
    "z2 = torch.tensor([[1, 2.], [3, 4.]])\n",
    "z2.requires_grad_(True)\n",
    "u = z1 @ z2\n",
    "v = u.sum()\n",
    "u.retain_grad()\n",
    "v.backward()\n",
    "print(z1.grad) # this is du/dv @ dv/dz1 -> ones(2, 2) @ z.T\n",
    "print(z2.grad) # this is du/dv @ dv/dz2 -> z.T @ ones(2, 2)\n",
    "print(u.grad)\n",
    "print(u.grad @ z.T + z.T @ u.grad.T)\n",
    "print(z1.grad + z2.grad)"
   ]
  },
  {
   "cell_type": "code",
   "execution_count": 4,
   "id": "5efb2f30-eba4-45e5-a21a-af64fbfd9e26",
   "metadata": {},
   "outputs": [
    {
     "name": "stdout",
     "output_type": "stream",
     "text": [
      "tensor([4, 6])\n"
     ]
    }
   ],
   "source": [
    "a = torch.tensor([[1, 2], [3, 4]])\n",
    "print(a.sum(axis=0))"
   ]
  },
  {
   "cell_type": "code",
   "execution_count": null,
   "id": "13fbdbe6-e262-418b-890b-95bc171d5c44",
   "metadata": {},
   "outputs": [],
   "source": []
  }
 ],
 "metadata": {
  "kernelspec": {
   "display_name": "Python 3 (ipykernel)",
   "language": "python",
   "name": "python3"
  },
  "language_info": {
   "codemirror_mode": {
    "name": "ipython",
    "version": 3
   },
   "file_extension": ".py",
   "mimetype": "text/x-python",
   "name": "python",
   "nbconvert_exporter": "python",
   "pygments_lexer": "ipython3",
   "version": "3.12.4"
  }
 },
 "nbformat": 4,
 "nbformat_minor": 5
}
