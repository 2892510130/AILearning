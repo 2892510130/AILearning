{
 "cells": [
  {
   "attachments": {},
   "cell_type": "markdown",
   "id": "e2b0c2ba-8834-48aa-b390-66c462e7488b",
   "metadata": {},
   "source": [
    "## Chapter 10 : Modern RNN\n",
    "- **LSTM**\n",
    "  - The structure is :\n",
    "  - <img alt=\"LSTM Arch\" src=\"https://zh.d2l.ai/_images/lstm-3.svg\" style=\"background-color: white; display: inline-block;\"> LSTM Arch\n",
    "- **GRU**\n",
    "  - <img alt=\"GRU Arch\" src=\"https://d2l.ai/_images/gru-3.svg\" style=\"background-color: white; display: inline-block;\"> GRU Arch\n",
    "  - Reset gates help capture short-term dependencies in sequences.\n",
    "  - Update gates help capture long-term dependencies in sequences.\n",
    "- **Deep RNN**\n",
    "  - <img alt=\"Deep RNN\" src=\"https://d2l.ai/_images/deep-rnn.svg\" style=\"background-color: white; display: inline-block;\"> Deep RNN\n",
    "  - In deep rnn, the output is the last layer of the hidden state with every timestep, and state is the last time step hidden state with all layer of rnn.\n",
    "- **Bidirection RNN**, it is slow and gradient chain is long\n",
    "  - $P(x_1,\\ldots,x_T,h_1,\\ldots,h_T)=\\prod_{t=1}^TP(h_t\\mid h_{t-1})P(x_t\\mid h_t),\\mathrm{~where~}P(h_1\\mid h_0)=P(h_1)$, it is a hidden markov model. We can use dynamic programming method compute is from start to end, also from end to start. Just how B-RNN is capable of.\n",
    "  - <img alt=\"Bidirection RNN\" src=\"https://zh.d2l.ai/_images/birnn.svg\" style=\"background-color: white; display: inline-block;\"> B-RNN\n",
    "  - And we just need to concatenate these two H.\n",
    "- **Machine translation**\n",
    "  - non-breaking space, some space should not split to new line, like Mr. Smith.\n",
    "  - Teacher Forcing : all the input will be pad with \\<pad\\>, source token no special treat, decoder input (target seq use as input) will start with \\<bos\\>, and label is shift by 1 (no \\<bos\\> at the begining).\n",
    "  - **Important**: when use teacher forcing, the truth target is feed to the decoder. This will make the traning faster and stable, but it will make training and predicting different (because when predicting we do not have truth target label, we have to repeatedly predict). We can make them the same, but the tranning will be harder.\n",
    "- **Sequence to Sequence**\n",
    "  - We use this Encoder - Decoder Arch to get varied length input and varied length output.\n",
    "  - We do not use one-hot, instead we use nn.Embed layer, which will take token i, and return ith row of the matrix of this embeding layer.\n",
    "  - From the encoder, we get the hidden states, and use a funcion $c = q(h_1, \\cdots, h_T)$, for example, just use the $h_T$. And in the decoder, we concatenate this with the target embed output, and feed to rnn.\n",
    "  - When calculating the loss, we should not take \\<pad\\> into acount. So we need to musk the loss with the tokens.\n",
    "  - <img alt=\"Encoder Decoder\" src=\"https://d2l.ai/_images/seq2seq-details.svg\" style=\"background-color: white; display: inline-block;\"> Encoder Decoder\n",
    "  - Bilingual Evaluation Understudy, BLEU evaluates whether this n-gram in the predicted sequence appears in the target sequence. For example, target sequence ABCDEF, predict sequence ABBCD, $p_1 = 4/5$, we have ABCD in the target sequence, $p_2 = 3 / 4$, we have AB, BC, CD. So we get BLEU as $\\exp\\left(\\min\\left(0,1-\\frac{\\mathrm{len}_{\\mathrm{label}}}{\\mathrm{len}_{\\mathrm{pred}}}\\right)\\right)\\prod_{n=1}^kp_n^{1/2^n}$, higher n will have higher weight, small length of predict length takes lower.\n",
    "- **Beam Search**\n",
    "  - Before this section, we use greedy search to get prediction, use argmax on the prediction vector : $y_{t^{\\prime}}=\\underset{y\\in\\mathcal{Y}}{\\operatorname*{\\operatorname*{argmax}}}P(y\\mid y_1,\\ldots,y_{t^{\\prime}-1},\\mathbf{c})$, where $\\mathcal Y$ is the vacab. Once our model outputs “<eos>” (or we reach the maximum length $T'$) the output sequence is completed.\n",
    "  - However, use the most likely tokens is not the same with the most likely sequence : $\\prod_{t^{\\prime}=1}^{T^{\\prime}}P(y_{t^{\\prime}}\\mid y_1,\\ldots,y_{t^{\\prime}-1},\\mathbf{c})$. For example, in this figure below, ACB will have this probability of 0.5 * 0.3 * 0.6 = 0.09. On the other hand, greedy search choose ABC which is 0.5 * 0.4 * 0.4 = 0.08, it is lower, not optimal!\n",
    "  - <img alt=\"Max sequence\" src=\"https://d2l.ai/_images/s2s-prob2.svg\" style=\"background-color: white; display: inline-block;\">Max sequence <img alt=\"Max token\" src=\"https://d2l.ai/_images/s2s-prob1.svg\" style=\"background-color: white; display: inline-block;\"> Max token.\n",
    "  - If we want the optimal one, we need to do exhaustive search, search all possible sequence, it is not possible!\n",
    "  - The most straightforward type of beam search is keep k candidates. In time step 2, we get $P ( A, y_{2} \\mid\\mathbf{c} )=P ( A \\mid\\mathbf{c} ) P ( y_{2} \\mid A, \\mathbf{c} )$ for the top, and $P ( C, y_{2} \\mid\\mathbf{c} )=P ( C \\mid\\mathbf{c} ) P ( y_{2} \\mid C, \\mathbf{c} ) $ for the bottom, then choose most 2 from them. And then choose sequence that maximize $\\frac{1} {L^{\\alpha}} \\mathrm{l o g} \\, P ( y_{1}, \\ldots, y_{L} \\mid\\mathbf{c} )=\\frac{1} {L^{\\alpha}} \\sum_{t^{\\prime}=1}^{L} \\mathrm{l o g} \\, P ( y_{t^{\\prime}} \\mid y_{1}, \\ldots, y_{t^{\\prime}-1}, \\mathbf{c} ) ; $. Note tha we have **6** candidates (A, C ..).\n",
    "  - <img alt=\"Max sequence\" src=\"https://d2l.ai/_images/beam-search.svg\" style=\"background-color: white; display: inline-block;\">\n",
    "<!-- <img alt=\"ResNeXt Block\" src=\"https://d2l.ai/_images/rnn.svg\" style=\"background-color: white; display: inline-block;\"> -->\n",
    "<!-- <img alt=\"ResNeXt Block\" src=\"https://d2l.ai/_images/rnn-bptt.svg\" style=\"background-color: white; display: inline-block;\"> -->"
   ]
  },
  {
   "cell_type": "code",
   "execution_count": 4,
   "id": "0f270645-8482-489c-88fe-cf3918bf9682",
   "metadata": {},
   "outputs": [],
   "source": [
    "import collections\n",
    "import math\n",
    "import torch\n",
    "from torch import nn\n",
    "from torch.nn import functional as F\n",
    "from torchinfo import summary\n",
    "import matplotlib.pyplot as plt"
   ]
  },
  {
   "cell_type": "code",
   "execution_count": null,
   "id": "d07e85a8-7167-41d1-bfc4-10418f18cd76",
   "metadata": {},
   "outputs": [],
   "source": [
    "\"\"\"\n",
    "Define a LSTM model here\n",
    "\"\"\"\n",
    "\n",
    "class LSTMScratch(d2l.Module):\n",
    "    def __init__(self, num_inputs, num_hiddens, sigma=0.01):\n",
    "        super().__init__()\n",
    "        self.save_hyperparameters()\n",
    "\n",
    "        init_weight = lambda *shape: nn.Parameter(torch.randn(*shape) * sigma)\n",
    "        triple = lambda: (init_weight(num_inputs, num_hiddens),\n",
    "                          init_weight(num_hiddens, num_hiddens),\n",
    "                          nn.Parameter(torch.zeros(num_hiddens)))\n",
    "        self.W_xi, self.W_hi, self.b_i = triple()  # Input gate\n",
    "        self.W_xf, self.W_hf, self.b_f = triple()  # Forget gate\n",
    "        self.W_xo, self.W_ho, self.b_o = triple()  # Output gate\n",
    "        self.W_xc, self.W_hc, self.b_c = triple()  # Input node\n",
    "\n",
    "    def forward(self, inputs, H_C=None):\n",
    "        if H_C is None:\n",
    "            # Initial state with shape: (batch_size, num_hiddens)\n",
    "            H = torch.zeros((inputs.shape[1], self.num_hiddens),\n",
    "                          device=inputs.device)\n",
    "            C = torch.zeros((inputs.shape[1], self.num_hiddens),\n",
    "                          device=inputs.device)\n",
    "        else:\n",
    "            H, C = H_C\n",
    "        outputs = []\n",
    "        for X in inputs:\n",
    "            I = torch.sigmoid(torch.matmul(X, self.W_xi) +\n",
    "                            torch.matmul(H, self.W_hi) + self.b_i)\n",
    "            F = torch.sigmoid(torch.matmul(X, self.W_xf) +\n",
    "                            torch.matmul(H, self.W_hf) + self.b_f)\n",
    "            O = torch.sigmoid(torch.matmul(X, self.W_xo) +\n",
    "                            torch.matmul(H, self.W_ho) + self.b_o)\n",
    "            C_tilde = torch.tanh(torch.matmul(X, self.W_xc) +\n",
    "                               torch.matmul(H, self.W_hc) + self.b_c)\n",
    "            C = F * C + I * C_tilde # This is important, use F to forget, I to input\n",
    "            H = O * torch.tanh(C)\n",
    "            outputs.append(H)\n",
    "        return outputs, (H, C)"
   ]
  },
  {
   "cell_type": "code",
   "execution_count": null,
   "id": "e1694a56-03ca-4586-91d3-b3449b89c27f",
   "metadata": {},
   "outputs": [],
   "source": [
    "\"\"\"\n",
    "Define a GRU model here\n",
    "\"\"\"\n",
    "\n",
    "class GRUScratch(d2l.Module):\n",
    "    def __init__(self, num_inputs, num_hiddens, sigma=0.01):\n",
    "        super().__init__()\n",
    "        self.save_hyperparameters()\n",
    "\n",
    "        init_weight = lambda *shape: nn.Parameter(torch.randn(*shape) * sigma)\n",
    "        triple = lambda: (init_weight(num_inputs, num_hiddens),\n",
    "                          init_weight(num_hiddens, num_hiddens),\n",
    "                          nn.Parameter(torch.zeros(num_hiddens)))\n",
    "        self.W_xz, self.W_hz, self.b_z = triple()  # Update gate\n",
    "        self.W_xr, self.W_hr, self.b_r = triple()  # Reset gate\n",
    "        self.W_xh, self.W_hh, self.b_h = triple()  # Candidate hidden state\n",
    "\n",
    "    def forward(self, inputs, H=None):\n",
    "        if H is None:\n",
    "            # Initial state with shape: (batch_size, num_hiddens)\n",
    "            H = torch.zeros((inputs.shape[1], self.num_hiddens),\n",
    "                          device=inputs.device)\n",
    "        outputs = []\n",
    "        for X in inputs:\n",
    "            Z = torch.sigmoid(torch.matmul(X, self.W_xz) +\n",
    "                            torch.matmul(H, self.W_hz) + self.b_z)\n",
    "            R = torch.sigmoid(torch.matmul(X, self.W_xr) +\n",
    "                            torch.matmul(H, self.W_hr) + self.b_r)\n",
    "            H_tilde = torch.tanh(torch.matmul(X, self.W_xh) +\n",
    "                               torch.matmul(R * H, self.W_hh) + self.b_h)\n",
    "            H = Z * H + (1 - Z) * H_tilde\n",
    "            outputs.append(H)\n",
    "        return outputs, H"
   ]
  },
  {
   "cell_type": "code",
   "execution_count": 4,
   "id": "fa492c44-7b2f-4ce6-91c7-c7de57562138",
   "metadata": {},
   "outputs": [
    {
     "data": {
      "text/plain": [
       "==========================================================================================\n",
       "Layer (type:depth-idx)                   Output Shape              Param #\n",
       "==========================================================================================\n",
       "LSTM                                     [10, 16, 32]              7,936\n",
       "==========================================================================================\n",
       "Total params: 7,936\n",
       "Trainable params: 7,936\n",
       "Non-trainable params: 0\n",
       "Total mult-adds (Units.MEGABYTES): 1.27\n",
       "==========================================================================================\n",
       "Input size (MB): 0.02\n",
       "Forward/backward pass size (MB): 0.04\n",
       "Params size (MB): 0.03\n",
       "Estimated Total Size (MB): 0.09\n",
       "=========================================================================================="
      ]
     },
     "execution_count": 4,
     "metadata": {},
     "output_type": "execute_result"
    }
   ],
   "source": [
    "lstm_model = nn.LSTM(28, 32) # 28 is one-hot size, 32 is hidden size\n",
    "summary(lstm_model, input_size = (10, 16, 28)) # 10 is squence length (time step), 16 is batch size"
   ]
  },
  {
   "cell_type": "code",
   "execution_count": 5,
   "id": "06cc21bd-0c36-4107-89dd-95e5fc01e5dd",
   "metadata": {},
   "outputs": [
    {
     "data": {
      "text/plain": [
       "==========================================================================================\n",
       "Layer (type:depth-idx)                   Output Shape              Param #\n",
       "==========================================================================================\n",
       "RNN                                      [10, 16, 32]              1,984\n",
       "==========================================================================================\n",
       "Total params: 1,984\n",
       "Trainable params: 1,984\n",
       "Non-trainable params: 0\n",
       "Total mult-adds (Units.MEGABYTES): 0.32\n",
       "==========================================================================================\n",
       "Input size (MB): 0.02\n",
       "Forward/backward pass size (MB): 0.04\n",
       "Params size (MB): 0.01\n",
       "Estimated Total Size (MB): 0.07\n",
       "=========================================================================================="
      ]
     },
     "execution_count": 5,
     "metadata": {},
     "output_type": "execute_result"
    }
   ],
   "source": [
    "rnn_model = nn.RNN(28, 32) # param size is exaclty 1 / 4 of lstm\n",
    "summary(rnn_model, input_size = (10, 16, 28))"
   ]
  },
  {
   "cell_type": "code",
   "execution_count": 6,
   "id": "89f46ae3-bdd6-4354-837d-e1f7eb090487",
   "metadata": {},
   "outputs": [
    {
     "data": {
      "text/plain": [
       "==========================================================================================\n",
       "Layer (type:depth-idx)                   Output Shape              Param #\n",
       "==========================================================================================\n",
       "GRU                                      [10, 16, 32]              5,952\n",
       "==========================================================================================\n",
       "Total params: 5,952\n",
       "Trainable params: 5,952\n",
       "Non-trainable params: 0\n",
       "Total mult-adds (Units.MEGABYTES): 0.95\n",
       "==========================================================================================\n",
       "Input size (MB): 0.02\n",
       "Forward/backward pass size (MB): 0.04\n",
       "Params size (MB): 0.02\n",
       "Estimated Total Size (MB): 0.08\n",
       "=========================================================================================="
      ]
     },
     "execution_count": 6,
     "metadata": {},
     "output_type": "execute_result"
    }
   ],
   "source": [
    "gru_model = nn.GRU(28, 32) # 3 times of RNN\n",
    "summary(gru_model, input_size = (10, 16, 28))"
   ]
  },
  {
   "cell_type": "code",
   "execution_count": 8,
   "id": "93586f50-0e85-4390-9de6-bf9476d2072c",
   "metadata": {},
   "outputs": [
    {
     "data": {
      "text/plain": [
       "==========================================================================================\n",
       "Layer (type:depth-idx)                   Output Shape              Param #\n",
       "==========================================================================================\n",
       "RNN                                      [10, 16, 32]              4,096\n",
       "==========================================================================================\n",
       "Total params: 4,096\n",
       "Trainable params: 4,096\n",
       "Non-trainable params: 0\n",
       "Total mult-adds (Units.MEGABYTES): 0.66\n",
       "==========================================================================================\n",
       "Input size (MB): 0.02\n",
       "Forward/backward pass size (MB): 0.04\n",
       "Params size (MB): 0.02\n",
       "Estimated Total Size (MB): 0.08\n",
       "=========================================================================================="
      ]
     },
     "execution_count": 8,
     "metadata": {},
     "output_type": "execute_result"
    }
   ],
   "source": [
    "rnn_deep_model = nn.RNN(28, 32, 2) # a little bigger than 2 times of noraml RNN\n",
    "summary(rnn_deep_model, input_size = (10, 16, 28), depth = 3)"
   ]
  },
  {
   "cell_type": "code",
   "execution_count": 10,
   "id": "0504d69f-a6f5-4035-8bf4-8156d7ff781e",
   "metadata": {},
   "outputs": [
    {
     "data": {
      "text/plain": [
       "==========================================================================================\n",
       "Layer (type:depth-idx)                   Output Shape              Param #\n",
       "==========================================================================================\n",
       "RNN                                      [10, 16, 64]              3,968\n",
       "==========================================================================================\n",
       "Total params: 3,968\n",
       "Trainable params: 3,968\n",
       "Non-trainable params: 0\n",
       "Total mult-adds (Units.MEGABYTES): 0.63\n",
       "==========================================================================================\n",
       "Input size (MB): 0.02\n",
       "Forward/backward pass size (MB): 0.08\n",
       "Params size (MB): 0.02\n",
       "Estimated Total Size (MB): 0.12\n",
       "=========================================================================================="
      ]
     },
     "execution_count": 10,
     "metadata": {},
     "output_type": "execute_result"
    }
   ],
   "source": [
    "rnn_bidirect_model = nn.RNN(28, 32, bidirectional = True) # 2 time of normal RNN\n",
    "summary(rnn_bidirect_model, input_size = (10, 16, 28), depth = 3)"
   ]
  },
  {
   "cell_type": "code",
   "execution_count": 2,
   "id": "37891281-c5c2-4a32-b55f-0660f6401b5a",
   "metadata": {},
   "outputs": [],
   "source": [
    "class Vocab:\n",
    "    \"\"\"Vocabulary for text.\"\"\"\n",
    "    def __init__(self, tokens=[], min_freq=0, reserved_tokens=[]):\n",
    "        \"\"\"Defined in :numref:`sec_text-sequence`\"\"\"\n",
    "        # Flatten a 2D list if needed\n",
    "        if tokens and isinstance(tokens[0], list):\n",
    "            tokens = [token for line in tokens for token in line]\n",
    "        # Count token frequencies\n",
    "        counter = collections.Counter(tokens)\n",
    "        self.token_freqs = sorted(counter.items(), key=lambda x: x[1],\n",
    "                                  reverse=True)\n",
    "        # The list of unique tokens\n",
    "        self.idx_to_token = list(sorted(set(['<unk>'] + reserved_tokens + [\n",
    "            token for token, freq in self.token_freqs if freq >= min_freq])))\n",
    "        self.token_to_idx = {token: idx\n",
    "                             for idx, token in enumerate(self.idx_to_token)}\n",
    "    def __len__(self):\n",
    "        return len(self.idx_to_token)\n",
    "\n",
    "    def __getitem__(self, tokens):\n",
    "        if not isinstance(tokens, (list, tuple)):\n",
    "            return self.token_to_idx.get(tokens, self.unk)\n",
    "        return [self.__getitem__(token) for token in tokens]\n",
    "\n",
    "    def to_tokens(self, indices):\n",
    "        if hasattr(indices, '__len__') and len(indices) > 1:\n",
    "            return [self.idx_to_token[int(index)] for index in indices]\n",
    "        return self.idx_to_token[indices]\n",
    "\n",
    "    @property\n",
    "    def unk(self):  # Index for the unknown token\n",
    "        return self.token_to_idx['<unk>']\n",
    "        \n",
    "class MyData:\n",
    "    def __init__(self, batch_size, num_steps=9, num_train=512, num_val=128):\n",
    "        super().__init__()\n",
    "        self.batch_size = batch_size\n",
    "        self.num_steps = num_steps\n",
    "        self.num_train = num_train\n",
    "        self.num_val = num_val\n",
    "        self.arrays, self.src_vocab, self.tgt_vocab = self._build_arrays(\n",
    "            self._read_data())\n",
    "        \n",
    "    def _read_data(self, path = \"../../Data/fra-eng/fra.txt\"):\n",
    "        with open(path, encoding='utf-8') as f:\n",
    "            return f.read()\n",
    "    \n",
    "    def _preprocess(self, text):\n",
    "        # Replace non-breaking space with space\n",
    "        text = text.replace('\\u202f', ' ').replace('\\xa0', ' ')\n",
    "        # Insert space between words and punctuation marks\n",
    "        no_space = lambda char, prev_char: char in ',.!?' and prev_char != ' '\n",
    "        out = [' ' + char if i > 0 and no_space(char, text[i - 1]) else char\n",
    "               for i, char in enumerate(text.lower())]\n",
    "        return ''.join(out)\n",
    "    \n",
    "    def _tokenize(self, text, max_examples=None):\n",
    "        src, tgt = [], []\n",
    "        for i, line in enumerate(text.split('\\n')):\n",
    "            if max_examples and i > max_examples: break\n",
    "            parts = line.split('\\t')\n",
    "            if len(parts) == 2:\n",
    "                # Skip empty tokens\n",
    "                src.append([t for t in f'{parts[0]} <eos>'.split(' ') if t])\n",
    "                tgt.append([t for t in f'{parts[1]} <eos>'.split(' ') if t])\n",
    "        return src, tgt\n",
    "\n",
    "    def _build_arrays(self, raw_text, src_vocab=None, tgt_vocab=None):\n",
    "        def _build_array(sentences, vocab, is_tgt=False):\n",
    "            pad_or_trim = lambda seq, t: (\n",
    "                seq[:t] if len(seq) > t else seq + ['<pad>'] * (t - len(seq)))\n",
    "            sentences = [pad_or_trim(s, self.num_steps) for s in sentences]\n",
    "            if is_tgt:\n",
    "                sentences = [['<bos>'] + s for s in sentences] # tgt length will be longer\n",
    "            if vocab is None:\n",
    "                vocab = Vocab(sentences, min_freq=2)\n",
    "            array = torch.tensor([vocab[s] for s in sentences])\n",
    "            valid_len = (array != vocab['<pad>']).type(torch.int32).sum(1) # this is needed\n",
    "            return array, vocab, valid_len\n",
    "        src, tgt = self._tokenize(self._preprocess(raw_text),\n",
    "                                  self.num_train + self.num_val)\n",
    "        src_array, src_vocab, src_valid_len = _build_array(src, src_vocab)\n",
    "        tgt_array, tgt_vocab, _ = _build_array(tgt, tgt_vocab, True)\n",
    "        return ((src_array, tgt_array[:,:-1], src_valid_len, tgt_array[:,1:]),\n",
    "                src_vocab, tgt_vocab)\n",
    "\n",
    "    def train_dataloader(self):\n",
    "        return self.get_dataloader(train=True)\n",
    "\n",
    "    def val_dataloader(self):\n",
    "        return self.get_dataloader(train=False)\n",
    "\n",
    "    def get_tensorloader(self, tensors, train, indices=slice(0, None)):\n",
    "        \"\"\"Defined in :numref:`sec_synthetic-regression-data`\"\"\"\n",
    "        tensors = tuple(a[indices] for a in tensors)\n",
    "        dataset = torch.utils.data.TensorDataset(*tensors)\n",
    "        return torch.utils.data.DataLoader(dataset, self.batch_size,\n",
    "                                           shuffle=train)\n",
    "        \n",
    "    def get_dataloader(self, train):\n",
    "        idx = slice(0, self.num_train) if train else slice(self.num_train, None)\n",
    "        return self.get_tensorloader(self.arrays, train, idx)\n",
    "\n",
    "    def build(self, src_sentences, tgt_sentences):\n",
    "        raw_text = '\\n'.join([src + '\\t' + tgt for src, tgt in zip(\n",
    "            src_sentences, tgt_sentences)])\n",
    "        arrays, _, _ = self._build_arrays(\n",
    "            raw_text, self.src_vocab, self.tgt_vocab)\n",
    "        return arrays\n",
    "\n",
    "def show_list_len_pair_hist(legend, xlabel, ylabel, xlist, ylist):\n",
    "    \"\"\"Plot the histogram for list length pairs.\"\"\"\n",
    "    _, _, patches = plt.hist(\n",
    "        [[len(l) for l in xlist], [len(l) for l in ylist]])\n",
    "    plt.xlabel(xlabel)\n",
    "    plt.ylabel(ylabel)\n",
    "    for patch in patches[1].patches:\n",
    "        patch.set_hatch('/')\n",
    "    plt.legend(legend)"
   ]
  },
  {
   "cell_type": "code",
   "execution_count": 24,
   "id": "02de4719-3545-432b-9af3-46807e9b13f4",
   "metadata": {},
   "outputs": [
    {
     "name": "stdout",
     "output_type": "stream",
     "text": [
      "go .\tva !\n",
      "hi .\tsalut !\n",
      "run !\tcours !\n",
      "run !\tcourez !\n",
      "who ?\tqui ?\n",
      "wow !\tça al\n"
     ]
    }
   ],
   "source": [
    "data = MyData()\n",
    "raw_text = data.read_data(\"../../Data/fra-eng/fra.txt\")\n",
    "text = data._preprocess(raw_text)\n",
    "src, tgt = data._tokenize(text)\n",
    "print(text[:75])"
   ]
  },
  {
   "cell_type": "code",
   "execution_count": 25,
   "id": "97027b85-64cd-4b50-bf77-64347ff0fa23",
   "metadata": {},
   "outputs": [
    {
     "data": {
      "image/png": "[encoded data removed]",
      "text/plain": [
       "<Figure size 640x480 with 1 Axes>"
      ]
     },
     "metadata": {},
     "output_type": "display_data"
    }
   ],
   "source": [
    "show_list_len_pair_hist(['source', 'target'], '# tokens per sequence',\n",
    "                        'count', src, tgt);"
   ]
  },
  {
   "cell_type": "code",
   "execution_count": 3,
   "id": "0bfd08b7-5391-4b85-ba82-4dc2de0ada7c",
   "metadata": {},
   "outputs": [
    {
     "name": "stdout",
     "output_type": "stream",
     "text": [
      "source: tensor([[188,   6,   3,   4,   4,   4,   4,   4,   4],\n",
      "        [ 86,  43,   2,   3,   4,   4,   4,   4,   4],\n",
      "        [  5,   0,   3,   4,   4,   4,   4,   4,   4]], dtype=torch.int32)\n",
      "decoder input: tensor([[  3, 161,   7,   4,   5,   5,   5,   5,   5],\n",
      "        [  3, 108, 183,  98,   2,   4,   5,   5,   5],\n",
      "        [  3, 211,   6,   0,   4,   5,   5,   5,   5]], dtype=torch.int32)\n",
      "source len excluding pad: tensor([3, 4, 3], dtype=torch.int32)\n",
      "label: tensor([[161,   7,   4,   5,   5,   5,   5,   5,   5],\n",
      "        [108, 183,  98,   2,   4,   5,   5,   5,   5],\n",
      "        [211,   6,   0,   4,   5,   5,   5,   5,   5]], dtype=torch.int32)\n"
     ]
    }
   ],
   "source": [
    "data = MyData(batch_size=3)\n",
    "src, tgt, src_valid_len, label = next(iter(data.train_dataloader()))\n",
    "print('source:', src.type(torch.int32))\n",
    "print('decoder input:', tgt.type(torch.int32))\n",
    "print('source len excluding pad:', src_valid_len.type(torch.int32))\n",
    "print('label:', label.type(torch.int32))"
   ]
  },
  {
   "cell_type": "code",
   "execution_count": 5,
   "id": "483ee40c-7daf-4ec5-a260-958d5d76c320",
   "metadata": {},
   "outputs": [
    {
     "data": {
      "text/plain": [
       "('<bos>', '<pad>', '<eos>')"
      ]
     },
     "execution_count": 5,
     "metadata": {},
     "output_type": "execute_result"
    }
   ],
   "source": [
    "data.tgt_vocab.idx_to_token[3], data.tgt_vocab.idx_to_token[5], data.src_vocab.idx_to_token[3]"
   ]
  },
  {
   "cell_type": "code",
   "execution_count": 49,
   "id": "79a15f8e-0c3f-4a89-8bae-1acc98e7de89",
   "metadata": {},
   "outputs": [
    {
     "name": "stdout",
     "output_type": "stream",
     "text": [
      "source: ['hi', '.', '<eos>', '<pad>', '<pad>', '<pad>', '<pad>', '<pad>', '<pad>']\n",
      "target: ['<bos>', 'salut', '.', '<eos>', '<pad>', '<pad>', '<pad>', '<pad>', '<pad>']\n"
     ]
    }
   ],
   "source": [
    "src, tgt, _,  _ = data.build(['hi .'], ['salut .'])\n",
    "print('source:', data.src_vocab.to_tokens(src[0].type(torch.int32)))\n",
    "print('target:', data.tgt_vocab.to_tokens(tgt[0].type(torch.int32)))"
   ]
  },
  {
   "cell_type": "code",
   "execution_count": 6,
   "id": "b6e90059-7776-463d-9244-1fb61bd8b06d",
   "metadata": {},
   "outputs": [],
   "source": [
    "\"\"\"\n",
    "Encoder\n",
    "\"\"\"\n",
    "\n",
    "class Encoder(nn.Module):  #@save\n",
    "    \"\"\"The base encoder interface for the encoder--decoder architecture.\"\"\"\n",
    "    def __init__(self):\n",
    "        super().__init__()\n",
    "\n",
    "    # Later there can be additional arguments (e.g., length excluding padding)\n",
    "    def forward(self, X, *args):\n",
    "        raise NotImplementedError\n"
   ]
  },
  {
   "cell_type": "code",
   "execution_count": 7,
   "id": "056e4ff3-c29c-4885-9b21-d2f2b657f4ac",
   "metadata": {},
   "outputs": [],
   "source": [
    "\"\"\"\n",
    "Decoder\n",
    "\"\"\"\n",
    "\n",
    "class Decoder(nn.Module):  #@save\n",
    "    \"\"\"The base decoder interface for the encoder--decoder architecture.\"\"\"\n",
    "    def __init__(self):\n",
    "        super().__init__()\n",
    "\n",
    "    # Later there can be additional arguments (e.g., length excluding padding)\n",
    "    def init_state(self, enc_all_outputs, *args):\n",
    "        raise NotImplementedError\n",
    "\n",
    "    def forward(self, X, state):\n",
    "        raise NotImplementedError\n",
    "\n"
   ]
  },
  {
   "cell_type": "code",
   "execution_count": 8,
   "id": "654c69cf-b10b-4ce7-8a3d-6da494c01532",
   "metadata": {},
   "outputs": [],
   "source": [
    "\"\"\"\n",
    "Encode - Decoder Arch\n",
    "\"\"\"\n",
    "\n",
    "argmax = lambda x, *args, **kwargs: x.argmax(*args, **kwargs)\n",
    "astype = lambda x, *args, **kwargs: x.type(*args, **kwargs)\n",
    "reduce_mean = lambda x, *args, **kwargs: x.mean(*args, **kwargs)\n",
    "\n",
    "class Classifier(nn.Module):\n",
    "    \"\"\"The base class of classification models.\n",
    "\n",
    "    Defined in :numref:`sec_classification`\"\"\"\n",
    "    def validation_step(self, batch):\n",
    "        Y_hat = self(*batch[:-1])\n",
    "        self.plot('loss', self.loss(Y_hat, batch[-1]), train=False)\n",
    "        self.plot('acc', self.accuracy(Y_hat, batch[-1]), train=False)\n",
    "\n",
    "    def accuracy(self, Y_hat, Y, averaged=True):\n",
    "        \"\"\"Compute the number of correct predictions.\n",
    "    \n",
    "        Defined in :numref:`sec_classification`\"\"\"\n",
    "        Y_hat = torch.reshape(Y_hat, (-1, Y_hat.shape[-1]))\n",
    "        preds = astype(argmax(Y_hat, axis=1), Y.dtype)\n",
    "        compare = astype(preds == torch.reshape(Y, -1), torch.float32)\n",
    "        return reduce_mean(compare) if averaged else compare\n",
    "\n",
    "    def loss(self, Y_hat, Y, averaged=True):\n",
    "        \"\"\"Defined in :numref:`sec_softmax_concise`\"\"\"\n",
    "        Y_hat = torch.reshape(Y_hat, (-1, Y_hat.shape[-1]))\n",
    "        Y = torch.reshape(Y, (-1,))\n",
    "        return F.cross_entropy(\n",
    "            Y_hat, Y, reduction='mean' if averaged else 'none')\n",
    "\n",
    "    def layer_summary(self, X_shape):\n",
    "        \"\"\"Defined in :numref:`sec_lenet`\"\"\"\n",
    "        X = torch.randn(*X_shape)\n",
    "        for layer in self.net:\n",
    "            X = layer(X)\n",
    "            print(layer.__class__.__name__, 'output shape:\\t', X.shape)\n",
    "\n",
    "class EncoderDecoder(Classifier):  #@save\n",
    "    \"\"\"The base class for the encoder--decoder architecture.\"\"\"\n",
    "    def __init__(self, encoder, decoder):\n",
    "        super().__init__()\n",
    "        self.encoder = encoder\n",
    "        self.decoder = decoder\n",
    "\n",
    "    def forward(self, enc_X, dec_X, *args):\n",
    "        enc_all_outputs = self.encoder(enc_X, *args)\n",
    "        dec_state = self.decoder.init_state(enc_all_outputs, *args)\n",
    "        # Return decoder output only\n",
    "        return self.decoder(dec_X, dec_state)[0]\n",
    "\n",
    "    def predict_step(self, batch, device, num_steps,\n",
    "                 save_attention_weights=False):\n",
    "        batch = [a.to(device) for a in batch]\n",
    "        src, tgt, src_valid_len, _ = batch\n",
    "        enc_all_outputs = self.encoder(src, src_valid_len)\n",
    "        dec_state = self.decoder.init_state(enc_all_outputs, src_valid_len)\n",
    "        outputs, attention_weights = [tgt[:, (0)].unsqueeze(1), ], []\n",
    "        for _ in range(num_steps):\n",
    "            Y, dec_state = self.decoder(outputs[-1], dec_state) # output is a list!\n",
    "            outputs.append(Y.argmax(2)) # Y is (batch, 1(step), vocab), so ouput is (batch, 1)\n",
    "            # Save attention weights (to be covered later)\n",
    "            if save_attention_weights:\n",
    "                attention_weights.append(self.decoder.attention_weights)\n",
    "        return torch.cat(outputs[1:], 1), attention_weights # do not return <pad>, and return (batch, step)"
   ]
  },
  {
   "cell_type": "code",
   "execution_count": 23,
   "id": "cdbbd1b8-ab1d-427b-8c43-8ebcee244673",
   "metadata": {},
   "outputs": [],
   "source": [
    "def init_seq2seq(module):  #@save\n",
    "    \"\"\"Initialize weights for sequence-to-sequence learning.\"\"\"\n",
    "    if type(module) == nn.Linear:\n",
    "         nn.init.xavier_uniform_(module.weight)\n",
    "    if type(module) == nn.GRU:\n",
    "        for param in module._flat_weights_names:\n",
    "            if \"weight\" in param:\n",
    "                nn.init.xavier_uniform_(module._parameters[param])\n",
    "\n",
    "class Seq2SeqEncoder(Encoder):  #@save\n",
    "    \"\"\"The RNN encoder for sequence-to-sequence learning.\"\"\"\n",
    "    def __init__(self, vocab_size, embed_size, num_hiddens, num_layers,\n",
    "                 dropout=0):\n",
    "        super().__init__()\n",
    "        self.embedding = nn.Embedding(vocab_size, embed_size)\n",
    "        self.rnn = nn.GRU(embed_size, num_hiddens, num_layers, dropout = dropout)\n",
    "        self.apply(init_seq2seq)\n",
    "\n",
    "    def forward(self, X, *args):\n",
    "        # X shape: (batch_size, num_steps)\n",
    "        embs = self.embedding(X.t().type(torch.int64))\n",
    "        # embs shape: (num_steps, batch_size, embed_size)\n",
    "        outputs, state = self.rnn(embs)\n",
    "        # outputs shape: (num_steps, batch_size, num_hiddens)\n",
    "        # state shape: (num_layers, batch_size, num_hiddens)\n",
    "        return outputs, state\n",
    "\n",
    "class Seq2SeqDecoder(Decoder):\n",
    "    \"\"\"The RNN decoder for sequence to sequence learning.\"\"\"\n",
    "    def __init__(self, vocab_size, embed_size, num_hiddens, num_layers,\n",
    "                 dropout=0):\n",
    "        super().__init__()\n",
    "        self.embedding = nn.Embedding(vocab_size, embed_size)\n",
    "        self.rnn = nn.GRU(embed_size+num_hiddens, num_hiddens,\n",
    "                           num_layers, dropout = dropout)\n",
    "        self.dense = nn.LazyLinear(vocab_size)\n",
    "        self.apply(init_seq2seq)\n",
    "\n",
    "    def init_state(self, enc_all_outputs, *args):\n",
    "        return enc_all_outputs\n",
    "\n",
    "    def forward(self, X, state):\n",
    "        # X shape: (batch_size, num_steps)\n",
    "        # embs shape: (num_steps, batch_size, embed_size)\n",
    "        embs = self.embedding(X.t().type(torch.int32))\n",
    "        enc_output, hidden_state = state\n",
    "        # context shape: (batch_size, num_hiddens)\n",
    "        context = enc_output[-1]\n",
    "        # Broadcast context to (num_steps, batch_size, num_hiddens)\n",
    "        context = context.repeat(embs.shape[0], 1, 1)\n",
    "        # Concat at the feature dimension\n",
    "        embs_and_context = torch.cat((embs, context), -1)\n",
    "        outputs, hidden_state = self.rnn(embs_and_context, hidden_state)\n",
    "        outputs = self.dense(outputs).swapaxes(0, 1)\n",
    "        # outputs shape: (batch_size, num_steps, vocab_size)\n",
    "        # hidden_state shape: (num_layers, batch_size, num_hiddens)\n",
    "        return outputs, [enc_output, hidden_state]\n",
    "\n",
    "class Seq2Seq(EncoderDecoder):  #@save\n",
    "    \"\"\"The RNN encoder--decoder for sequence to sequence learning.\"\"\"\n",
    "    def __init__(self, encoder, decoder, tgt_pad, lr):\n",
    "        super().__init__(encoder, decoder)\n",
    "        self.encoder = encoder\n",
    "        self.decoder = decoder\n",
    "        self.tgt_pad = tgt_pad\n",
    "        self.lr = lr\n",
    "\n",
    "    def validation_step(self, batch):\n",
    "        Y_hat = self(*batch[:-1])\n",
    "        self.plot('loss', self.loss(Y_hat, batch[-1]), train=False)\n",
    "\n",
    "    def configure_optimizers(self):\n",
    "        # Adam optimizer is used here\n",
    "        return torch.optim.Adam(self.parameters(), lr=self.lr)\n",
    "\n",
    "    def loss(self, Y_hat, Y):\n",
    "        l = super().loss(Y_hat, Y, averaged=False)\n",
    "        mask = (Y.reshape(-1) != self.tgt_pad).type(torch.float32)\n",
    "        return (l * mask).sum() / mask.sum()\n"
   ]
  },
  {
   "cell_type": "code",
   "execution_count": 18,
   "id": "2ff18cca-dc5d-4fc5-9e23-eb2e3fba8498",
   "metadata": {},
   "outputs": [
    {
     "name": "stdout",
     "output_type": "stream",
     "text": [
      "torch.Size([9, 4, 16]) torch.Size([2, 4, 16])\n"
     ]
    }
   ],
   "source": [
    "vocab_size, embed_size, num_hiddens, num_layers = 10, 8, 16, 2\n",
    "batch_size, num_steps = 4, 9\n",
    "encoder = Seq2SeqEncoder(vocab_size, embed_size, num_hiddens, num_layers)\n",
    "X = torch.zeros((batch_size, num_steps))\n",
    "enc_outputs, enc_state = encoder(X)\n",
    "print(enc_outputs.shape, enc_state.shape)"
   ]
  },
  {
   "cell_type": "code",
   "execution_count": 41,
   "id": "64201895-41ca-4ccf-bbce-912b94544882",
   "metadata": {},
   "outputs": [
    {
     "name": "stdout",
     "output_type": "stream",
     "text": [
      "torch.Size([4, 9, 10]) torch.Size([9, 4, 16]) torch.Size([2, 4, 16])\n"
     ]
    }
   ],
   "source": [
    "decoder = Seq2SeqDecoder(vocab_size, embed_size, num_hiddens, num_layers)\n",
    "state = decoder.init_state(encoder(X))\n",
    "dec_outputs, state = decoder(X, state)\n",
    "print(dec_outputs.shape, state[0].shape, state[1].shape)"
   ]
  },
  {
   "cell_type": "code",
   "execution_count": 24,
   "id": "f3d06ff4-ab20-4584-94cc-bdca02a5ac70",
   "metadata": {},
   "outputs": [],
   "source": [
    "seq2seq = Seq2Seq(encoder, decoder, 5, 0.01)"
   ]
  },
  {
   "cell_type": "code",
   "execution_count": 42,
   "id": "1dab4c1c-dcde-4d4d-b64c-1bce52d84b72",
   "metadata": {},
   "outputs": [
    {
     "name": "stdout",
     "output_type": "stream",
     "text": [
      "tensor([[ 5.1774e-03, -1.3611e-01,  6.0320e-02, -2.3777e-01,  1.2387e-01,\n",
      "          1.7110e-02,  4.3592e-02, -2.2250e-01, -1.2387e-01,  4.6138e-02],\n",
      "        [-5.8463e-02, -1.6122e-02,  1.6028e-02, -4.3072e-02,  1.2748e-01,\n",
      "         -8.2334e-02,  1.7483e-01, -2.9459e-01, -2.0162e-01,  6.0619e-02],\n",
      "        [-9.1908e-02,  4.3872e-02, -1.4242e-04,  4.0666e-02,  1.3917e-01,\n",
      "         -1.3944e-01,  2.5276e-01, -3.1762e-01, -2.5067e-01,  8.6200e-02],\n",
      "        [-1.1042e-01,  7.2683e-02, -3.7957e-03,  7.8237e-02,  1.4776e-01,\n",
      "         -1.7278e-01,  2.9364e-01, -3.2229e-01, -2.8004e-01,  1.1303e-01],\n",
      "        [-1.2128e-01,  8.6662e-02, -3.1796e-03,  9.6976e-02,  1.5228e-01,\n",
      "         -1.9283e-01,  3.1392e-01, -3.2116e-01, -2.9649e-01,  1.3621e-01],\n",
      "        [-1.2786e-01,  9.3677e-02, -1.6188e-03,  1.0680e-01,  1.5400e-01,\n",
      "         -2.0560e-01,  3.2374e-01, -3.1839e-01, -3.0519e-01,  1.5406e-01],\n",
      "        [-1.3198e-01,  9.7356e-02, -1.1450e-04,  1.1190e-01,  1.5404e-01,\n",
      "         -2.1419e-01,  3.2832e-01, -3.1541e-01, -3.0953e-01,  1.6674e-01],\n",
      "        [-1.3467e-01,  9.9363e-02,  1.1365e-03,  1.1444e-01,  1.5314e-01,\n",
      "         -2.2017e-01,  3.3023e-01, -3.1274e-01, -3.1153e-01,  1.7524e-01],\n",
      "        [-1.3653e-01,  1.0047e-01,  2.1437e-03,  1.1557e-01,  1.5180e-01,\n",
      "         -2.2440e-01,  3.3077e-01, -3.1053e-01, -3.1232e-01,  1.8071e-01]],\n",
      "       grad_fn=<SelectBackward0>)\n",
      "torch.Size([36, 10])\n",
      "tensor([ 0.0052, -0.1361,  0.0603, -0.2378,  0.1239,  0.0171,  0.0436, -0.2225,\n",
      "        -0.1239,  0.0461], grad_fn=<SelectBackward0>)\n"
     ]
    }
   ],
   "source": [
    "print(dec_outputs[0])\n",
    "dec_outputs_loss = torch.reshape(dec_outputs, (-1, dec_outputs.shape[-1]))\n",
    "print(dec_outputs_loss.shape)\n",
    "print(dec_outputs_loss[0])"
   ]
  },
  {
   "cell_type": "code",
   "execution_count": 38,
   "id": "52320595-aa30-4ed8-8613-1f207c40cffd",
   "metadata": {},
   "outputs": [
    {
     "name": "stdout",
     "output_type": "stream",
     "text": [
      "[tensor([[3],\n",
      "        [3],\n",
      "        [3]])]\n",
      "torch.Size([3])\n",
      "torch.Size([3, 1])\n",
      "torch.Size([1])\n",
      "torch.Size([3, 9])\n"
     ]
    }
   ],
   "source": [
    "index = 0\n",
    "print([tgt[:, (index)].unsqueeze(1), ])\n",
    "print(tgt[:, (index)].shape)\n",
    "print(tgt[:, (index)].unsqueeze(1).shape)\n",
    "print((tgt[:, (index)].unsqueeze(1))[-1].shape)\n",
    "print(tgt.shape)"
   ]
  },
  {
   "cell_type": "code",
   "execution_count": 43,
   "id": "7ae94c40-5747-465d-9bdf-15f48a1d1086",
   "metadata": {},
   "outputs": [
    {
     "name": "stdout",
     "output_type": "stream",
     "text": [
      "tensor([[4, 6, 6, 6, 6, 6, 6, 6, 6],\n",
      "        [4, 6, 6, 6, 6, 6, 6, 6, 6],\n",
      "        [4, 6, 6, 6, 6, 6, 6, 6, 6],\n",
      "        [4, 6, 6, 6, 6, 6, 6, 6, 6]])\n",
      "torch.Size([4, 9])\n"
     ]
    }
   ],
   "source": [
    "print(dec_outputs.argmax(2))\n",
    "print(dec_outputs.argmax(2).shape)"
   ]
  },
  {
   "cell_type": "code",
   "execution_count": null,
   "id": "57c54a54-7953-487e-a458-2b6d9955dc01",
   "metadata": {},
   "outputs": [],
   "source": [
    "\"\"\"\n",
    "BLEU \n",
    "\"\"\"\n",
    "def bleu(pred_seq, label_seq, k):  #@save\n",
    "    \"\"\"Compute the BLEU.\"\"\"\n",
    "    pred_tokens, label_tokens = pred_seq.split(' '), label_seq.split(' ')\n",
    "    len_pred, len_label = len(pred_tokens), len(label_tokens)\n",
    "    score = math.exp(min(0, 1 - len_label / len_pred))\n",
    "    for n in range(1, min(k, len_pred) + 1):\n",
    "        num_matches, label_subs = 0, collections.defaultdict(int)\n",
    "        for i in range(len_label - n + 1):\n",
    "            label_subs[' '.join(label_tokens[i: i + n])] += 1\n",
    "        for i in range(len_pred - n + 1):\n",
    "            if label_subs[' '.join(pred_tokens[i: i + n])] > 0:\n",
    "                num_matches += 1\n",
    "                label_subs[' '.join(pred_tokens[i: i + n])] -= 1\n",
    "        score *= math.pow(num_matches / (len_pred - n + 1), math.pow(0.5, n))\n",
    "    return score"
   ]
  }
 ],
 "metadata": {
  "kernelspec": {
   "display_name": "Python 3 (ipykernel)",
   "language": "python",
   "name": "python3"
  },
  "language_info": {
   "codemirror_mode": {
    "name": "ipython",
    "version": 3
   },
   "file_extension": ".py",
   "mimetype": "text/x-python",
   "name": "python",
   "nbconvert_exporter": "python",
   "pygments_lexer": "ipython3",
   "version": "3.12.4"
  }
 },
 "nbformat": 4,
 "nbformat_minor": 5
}
