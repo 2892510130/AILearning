{
 "cells": [
  {
   "cell_type": "markdown",
   "id": "1e8742b7-21f4-49f7-bf02-44801d2d45f3",
   "metadata": {},
   "source": [
    "## Chapter 19 : Hyperparameter Optimization\n",
    "- *Configuration Space*: space where hyperparameter choosn from. We can use loguniform to sample hyperparameters which take diverse values.\n",
    "- Method 1: *Random Search*, most common and most used one. Remenber to run trials multiple times, get the mean the deviation then compare different configurations.\n",
    "- Synchronous vs. Asynchronous, latter one will not wait for the previous trial result, which is good for trials have different wall times (max running time). And it will drop out bad configuration from time to time.\n",
    "- *Multi-fidelity* HPO allocates more resources to promising configurations and stop evaluations of poorly performing ones early.\n",
    "  - *Successive Halving*: start with $N$ configurations, choose a halving constant $\\eta$, run $r_{min}$ epoches, keep top $1 / \\eta$ fraction, then run $r_{min}\\eta$ epoches, keep...\n",
    "  - *Asynchronous Successive Halving*: don't wait for same run to finish, every time we finish a trial, compare it with the loss in the same run (epoch) condition, if these loss number is less than $\\eta$, do more trial for the same epoch, it loss number is larger than $\\eta$, check whether it is top $1/\\eta$ one, if it is, pormote to next level (more epoch).\n",
    "<!-- <img alt=\"BERT input\" src=\"https://d2l.ai/_images/bert-input.svg\" style=\"background-color: white; display: inline-block;\"> -->"
   ]
  },
  {
   "cell_type": "code",
   "execution_count": null,
   "id": "91568f57-45ed-4aec-9015-88e952ba7456",
   "metadata": {},
   "outputs": [],
   "source": []
  }
 ],
 "metadata": {
  "kernelspec": {
   "display_name": "Python 3 (ipykernel)",
   "language": "python",
   "name": "python3"
  },
  "language_info": {
   "codemirror_mode": {
    "name": "ipython",
    "version": 3
   },
   "file_extension": ".py",
   "mimetype": "text/x-python",
   "name": "python",
   "nbconvert_exporter": "python",
   "pygments_lexer": "ipython3",
   "version": "3.12.4"
  }
 },
 "nbformat": 4,
 "nbformat_minor": 5
}
