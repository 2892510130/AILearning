{
 "cells": [
  {
   "cell_type": "code",
   "execution_count": 1,
   "id": "55d47199-e778-4919-996b-3dd018733369",
   "metadata": {},
   "outputs": [],
   "source": [
    "\"\"\"\n",
    "Code for section 7. Word Similarity and Analogy\n",
    "\"\"\"\n",
    "import os\n",
    "import torch\n",
    "from torch import nn"
   ]
  },
  {
   "cell_type": "code",
   "execution_count": 5,
   "id": "ac7e21e7-4c0e-46b5-afb9-9e99a5d67196",
   "metadata": {},
   "outputs": [],
   "source": [
    "class TokenEmbedding:\n",
    "    \"\"\"Token Embedding.\"\"\"\n",
    "    def __init__(self, embedding_name):\n",
    "        self.idx_to_token, self.idx_to_vec = self._load_embedding(\n",
    "            embedding_name)\n",
    "        self.unknown_idx = 0\n",
    "        self.token_to_idx = {token: idx for idx, token in\n",
    "                             enumerate(self.idx_to_token)}\n",
    "\n",
    "    def _load_embedding(self, embedding_name):\n",
    "        idx_to_token, idx_to_vec = ['<unk>'], []\n",
    "        data_dir = \"../../Data/\" + embedding_name\n",
    "        # GloVe website: https://nlp.stanford.edu/projects/glove/\n",
    "        # fastText website: https://fasttext.cc/\n",
    "        with open(os.path.join(data_dir, 'vec.txt'), 'r', encoding='utf-8') as f:\n",
    "            for line in f:\n",
    "                elems = line.rstrip().split(' ')\n",
    "                token, elems = elems[0], [float(elem) for elem in elems[1:]]\n",
    "                # Skip header information, such as the top row in fastText\n",
    "                if len(elems) > 1:\n",
    "                    idx_to_token.append(token)\n",
    "                    idx_to_vec.append(elems)\n",
    "        idx_to_vec = [[0] * len(idx_to_vec[0])] + idx_to_vec\n",
    "        return idx_to_token, torch.tensor(idx_to_vec)\n",
    "\n",
    "    def __getitem__(self, tokens):\n",
    "        indices = [self.token_to_idx.get(token, self.unknown_idx)\n",
    "                   for token in tokens]\n",
    "        vecs = self.idx_to_vec[torch.tensor(indices)]\n",
    "        return vecs\n",
    "\n",
    "    def __len__(self):\n",
    "        return len(self.idx_to_token)"
   ]
  },
  {
   "cell_type": "code",
   "execution_count": 6,
   "id": "52dad5fc-9e11-4769-8be1-e1dec4ec0fc4",
   "metadata": {},
   "outputs": [],
   "source": [
    "glove_6b50d = TokenEmbedding('glove.6b.50d')"
   ]
  },
  {
   "cell_type": "code",
   "execution_count": 8,
   "id": "b6a31f73-4bbd-4b47-9d6d-86c0d8953a6e",
   "metadata": {},
   "outputs": [],
   "source": [
    "def knn(W, x, k):\n",
    "    \"\"\"\n",
    "    k-nearest neighbors -> get word similarity\n",
    "        Add 1e-9 for numerical stability\n",
    "    \"\"\"\n",
    "    cos = torch.mv(W, x.reshape(-1,)) / (\n",
    "        torch.sqrt(torch.sum(W * W, axis=1) + 1e-9) *\n",
    "        torch.sqrt((x * x).sum()))\n",
    "    vals, topk = torch.topk(cos, k=k)\n",
    "    return topk, vals"
   ]
  },
  {
   "cell_type": "code",
   "execution_count": 9,
   "id": "ab608b60-abb5-4cd2-b10d-2979e5f21f4d",
   "metadata": {},
   "outputs": [],
   "source": [
    "def get_similar_tokens(query_token, k, embed):\n",
    "    topk, cos = knn(embed.idx_to_vec, embed[[query_token]], k + 1)\n",
    "    for i, c in zip(topk[1:], cos[1:]):  # Exclude the input word\n",
    "        print(f'cosine sim={float(c):.3f}: {embed.idx_to_token[int(i)]}')"
   ]
  },
  {
   "cell_type": "code",
   "execution_count": 10,
   "id": "c84b503a-2a8d-4f64-b28f-00ffc2083344",
   "metadata": {},
   "outputs": [
    {
     "name": "stdout",
     "output_type": "stream",
     "text": [
      "cosine sim=0.856: chips\n",
      "cosine sim=0.749: intel\n",
      "cosine sim=0.749: electronics\n",
      "cosine sim=0.731: semiconductor\n",
      "cosine sim=0.716: maker\n",
      "cosine sim=0.708: computer\n",
      "cosine sim=0.707: microprocessor\n",
      "cosine sim=0.703: makers\n",
      "cosine sim=0.701: micro\n",
      "cosine sim=0.691: manufacturing\n"
     ]
    }
   ],
   "source": [
    "get_similar_tokens('chip', 10, glove_6b50d)"
   ]
  },
  {
   "cell_type": "code",
   "execution_count": 11,
   "id": "f3f859dc-de08-485a-b967-d3cff4855a1d",
   "metadata": {},
   "outputs": [
    {
     "name": "stdout",
     "output_type": "stream",
     "text": [
      "cosine sim=0.843: dream\n",
      "cosine sim=0.840: life\n",
      "cosine sim=0.840: dreams\n",
      "cosine sim=0.836: loves\n",
      "cosine sim=0.835: me\n",
      "cosine sim=0.823: my\n",
      "cosine sim=0.822: mind\n",
      "cosine sim=0.811: loving\n",
      "cosine sim=0.807: wonder\n",
      "cosine sim=0.801: soul\n"
     ]
    }
   ],
   "source": [
    "get_similar_tokens('love', 10, glove_6b50d)"
   ]
  },
  {
   "cell_type": "code",
   "execution_count": 12,
   "id": "a077bf10-d395-452c-b009-3b02e946df74",
   "metadata": {},
   "outputs": [
    {
     "name": "stdout",
     "output_type": "stream",
     "text": [
      "cosine sim=0.946: daughter\n",
      "cosine sim=0.943: wife\n",
      "cosine sim=0.934: grandmother\n",
      "cosine sim=0.906: husband\n",
      "cosine sim=0.891: father\n",
      "cosine sim=0.891: sister\n",
      "cosine sim=0.879: her\n",
      "cosine sim=0.876: woman\n",
      "cosine sim=0.876: aunt\n",
      "cosine sim=0.860: friend\n"
     ]
    }
   ],
   "source": [
    "get_similar_tokens('mother', 10, glove_6b50d)"
   ]
  },
  {
   "cell_type": "code",
   "execution_count": 13,
   "id": "1b9de01f-603d-497a-ac4f-a3a3ee28db81",
   "metadata": {},
   "outputs": [],
   "source": [
    "def get_analogy(token_a, token_b, token_c, embed):\n",
    "    \"\"\"\n",
    "    get word analogy\n",
    "    \"\"\"\n",
    "    vecs = embed[[token_a, token_b, token_c]]\n",
    "    x = vecs[1] - vecs[0] + vecs[2]\n",
    "    topk, cos = knn(embed.idx_to_vec, x, 1)\n",
    "    return embed.idx_to_token[int(topk[0])]  # Remove unknown words"
   ]
  },
  {
   "cell_type": "code",
   "execution_count": 14,
   "id": "ff4a346c-80aa-4021-b793-e6258aa56367",
   "metadata": {},
   "outputs": [
    {
     "data": {
      "text/plain": [
       "'daughter'"
      ]
     },
     "execution_count": 14,
     "metadata": {},
     "output_type": "execute_result"
    }
   ],
   "source": [
    "get_analogy('man', 'woman', 'son', glove_6b50d)"
   ]
  },
  {
   "cell_type": "code",
   "execution_count": 15,
   "id": "7855559f-1aac-492e-994a-6b3eb1c706fd",
   "metadata": {},
   "outputs": [
    {
     "data": {
      "text/plain": [
       "'japan'"
      ]
     },
     "execution_count": 15,
     "metadata": {},
     "output_type": "execute_result"
    }
   ],
   "source": [
    "get_analogy('beijing', 'china', 'tokyo', glove_6b50d)"
   ]
  },
  {
   "cell_type": "code",
   "execution_count": 16,
   "id": "12db423a-2c90-453e-a5ae-c92c40d8c05b",
   "metadata": {},
   "outputs": [
    {
     "data": {
      "text/plain": [
       "'biggest'"
      ]
     },
     "execution_count": 16,
     "metadata": {},
     "output_type": "execute_result"
    }
   ],
   "source": [
    "get_analogy('bad', 'worst', 'big', glove_6b50d)"
   ]
  },
  {
   "cell_type": "code",
   "execution_count": 17,
   "id": "b3501dae-bdea-4562-a152-aa85c7416344",
   "metadata": {},
   "outputs": [
    {
     "data": {
      "text/plain": [
       "'went'"
      ]
     },
     "execution_count": 17,
     "metadata": {},
     "output_type": "execute_result"
    }
   ],
   "source": [
    "get_analogy('do', 'did', 'go', glove_6b50d)"
   ]
  },
  {
   "cell_type": "code",
   "execution_count": null,
   "id": "49cf35b4-d79b-4f7f-9724-a3ad530b83d1",
   "metadata": {},
   "outputs": [],
   "source": []
  }
 ],
 "metadata": {
  "kernelspec": {
   "display_name": "Python 3 (ipykernel)",
   "language": "python",
   "name": "python3"
  },
  "language_info": {
   "codemirror_mode": {
    "name": "ipython",
    "version": 3
   },
   "file_extension": ".py",
   "mimetype": "text/x-python",
   "name": "python",
   "nbconvert_exporter": "python",
   "pygments_lexer": "ipython3",
   "version": "3.12.4"
  }
 },
 "nbformat": 4,
 "nbformat_minor": 5
}
